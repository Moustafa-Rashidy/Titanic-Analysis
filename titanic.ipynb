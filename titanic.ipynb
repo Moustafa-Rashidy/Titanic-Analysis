{
 "cells": [
  {
   "cell_type": "code",
   "execution_count": 1,
   "id": "81ffb40d",
   "metadata": {
    "execution": {
     "iopub.execute_input": "2022-01-10T06:32:09.968333Z",
     "iopub.status.busy": "2022-01-10T06:32:09.967115Z",
     "iopub.status.idle": "2022-01-10T06:32:11.008041Z",
     "shell.execute_reply": "2022-01-10T06:32:11.008610Z",
     "shell.execute_reply.started": "2022-01-10T06:22:05.121913Z"
    },
    "papermill": {
     "duration": 1.10238,
     "end_time": "2022-01-10T06:32:11.008947",
     "exception": false,
     "start_time": "2022-01-10T06:32:09.906567",
     "status": "completed"
    },
    "tags": []
   },
   "outputs": [],
   "source": [
    "import pandas as pd\n",
    "import numpy as np\n",
    "import matplotlib.pyplot as plt\n",
    "import seaborn as sns\n",
    "import warnings\n",
    "warnings.filterwarnings('ignore')"
   ]
  },
  {
   "cell_type": "markdown",
   "id": "48f6c858",
   "metadata": {
    "papermill": {
     "duration": 0.052288,
     "end_time": "2022-01-10T06:32:11.114310",
     "exception": false,
     "start_time": "2022-01-10T06:32:11.062022",
     "status": "completed"
    },
    "tags": []
   },
   "source": [
    "## Read Data"
   ]
  },
  {
   "cell_type": "code",
   "execution_count": 2,
   "id": "7377669c",
   "metadata": {
    "execution": {
     "iopub.execute_input": "2022-01-10T06:32:11.235228Z",
     "iopub.status.busy": "2022-01-10T06:32:11.234539Z",
     "iopub.status.idle": "2022-01-10T06:32:11.265663Z",
     "shell.execute_reply": "2022-01-10T06:32:11.266265Z",
     "shell.execute_reply.started": "2022-01-10T06:22:06.343476Z"
    },
    "papermill": {
     "duration": 0.096914,
     "end_time": "2022-01-10T06:32:11.266449",
     "exception": false,
     "start_time": "2022-01-10T06:32:11.169535",
     "status": "completed"
    },
    "tags": []
   },
   "outputs": [],
   "source": [
    "df_train = pd.read_csv('../input/titanic-solution-for-beginners-guide/train.csv')\n",
    "df_test = pd.read_csv('../input/titanic-solution-for-beginners-guide/test.csv')"
   ]
  },
  {
   "cell_type": "code",
   "execution_count": 3,
   "id": "8e6125fd",
   "metadata": {
    "execution": {
     "iopub.execute_input": "2022-01-10T06:32:11.377666Z",
     "iopub.status.busy": "2022-01-10T06:32:11.377053Z",
     "iopub.status.idle": "2022-01-10T06:32:11.400376Z",
     "shell.execute_reply": "2022-01-10T06:32:11.400881Z",
     "shell.execute_reply.started": "2022-01-10T06:22:06.383963Z"
    },
    "papermill": {
     "duration": 0.080378,
     "end_time": "2022-01-10T06:32:11.401051",
     "exception": false,
     "start_time": "2022-01-10T06:32:11.320673",
     "status": "completed"
    },
    "tags": []
   },
   "outputs": [
    {
     "data": {
      "text/html": [
       "<div>\n",
       "<style scoped>\n",
       "    .dataframe tbody tr th:only-of-type {\n",
       "        vertical-align: middle;\n",
       "    }\n",
       "\n",
       "    .dataframe tbody tr th {\n",
       "        vertical-align: top;\n",
       "    }\n",
       "\n",
       "    .dataframe thead th {\n",
       "        text-align: right;\n",
       "    }\n",
       "</style>\n",
       "<table border=\"1\" class=\"dataframe\">\n",
       "  <thead>\n",
       "    <tr style=\"text-align: right;\">\n",
       "      <th></th>\n",
       "      <th>PassengerId</th>\n",
       "      <th>Survived</th>\n",
       "      <th>Pclass</th>\n",
       "      <th>Name</th>\n",
       "      <th>Sex</th>\n",
       "      <th>Age</th>\n",
       "      <th>SibSp</th>\n",
       "      <th>Parch</th>\n",
       "      <th>Ticket</th>\n",
       "      <th>Fare</th>\n",
       "      <th>Cabin</th>\n",
       "      <th>Embarked</th>\n",
       "    </tr>\n",
       "  </thead>\n",
       "  <tbody>\n",
       "    <tr>\n",
       "      <th>0</th>\n",
       "      <td>1</td>\n",
       "      <td>0</td>\n",
       "      <td>3</td>\n",
       "      <td>Braund, Mr. Owen Harris</td>\n",
       "      <td>male</td>\n",
       "      <td>22.0</td>\n",
       "      <td>1</td>\n",
       "      <td>0</td>\n",
       "      <td>A/5 21171</td>\n",
       "      <td>7.2500</td>\n",
       "      <td>NaN</td>\n",
       "      <td>S</td>\n",
       "    </tr>\n",
       "    <tr>\n",
       "      <th>1</th>\n",
       "      <td>2</td>\n",
       "      <td>1</td>\n",
       "      <td>1</td>\n",
       "      <td>Cumings, Mrs. John Bradley (Florence Briggs Th...</td>\n",
       "      <td>female</td>\n",
       "      <td>38.0</td>\n",
       "      <td>1</td>\n",
       "      <td>0</td>\n",
       "      <td>PC 17599</td>\n",
       "      <td>71.2833</td>\n",
       "      <td>C85</td>\n",
       "      <td>C</td>\n",
       "    </tr>\n",
       "    <tr>\n",
       "      <th>2</th>\n",
       "      <td>3</td>\n",
       "      <td>1</td>\n",
       "      <td>3</td>\n",
       "      <td>Heikkinen, Miss. Laina</td>\n",
       "      <td>female</td>\n",
       "      <td>26.0</td>\n",
       "      <td>0</td>\n",
       "      <td>0</td>\n",
       "      <td>STON/O2. 3101282</td>\n",
       "      <td>7.9250</td>\n",
       "      <td>NaN</td>\n",
       "      <td>S</td>\n",
       "    </tr>\n",
       "    <tr>\n",
       "      <th>3</th>\n",
       "      <td>4</td>\n",
       "      <td>1</td>\n",
       "      <td>1</td>\n",
       "      <td>Futrelle, Mrs. Jacques Heath (Lily May Peel)</td>\n",
       "      <td>female</td>\n",
       "      <td>35.0</td>\n",
       "      <td>1</td>\n",
       "      <td>0</td>\n",
       "      <td>113803</td>\n",
       "      <td>53.1000</td>\n",
       "      <td>C123</td>\n",
       "      <td>S</td>\n",
       "    </tr>\n",
       "    <tr>\n",
       "      <th>4</th>\n",
       "      <td>5</td>\n",
       "      <td>0</td>\n",
       "      <td>3</td>\n",
       "      <td>Allen, Mr. William Henry</td>\n",
       "      <td>male</td>\n",
       "      <td>35.0</td>\n",
       "      <td>0</td>\n",
       "      <td>0</td>\n",
       "      <td>373450</td>\n",
       "      <td>8.0500</td>\n",
       "      <td>NaN</td>\n",
       "      <td>S</td>\n",
       "    </tr>\n",
       "  </tbody>\n",
       "</table>\n",
       "</div>"
      ],
      "text/plain": [
       "   PassengerId  Survived  Pclass  \\\n",
       "0            1         0       3   \n",
       "1            2         1       1   \n",
       "2            3         1       3   \n",
       "3            4         1       1   \n",
       "4            5         0       3   \n",
       "\n",
       "                                                Name     Sex   Age  SibSp  \\\n",
       "0                            Braund, Mr. Owen Harris    male  22.0      1   \n",
       "1  Cumings, Mrs. John Bradley (Florence Briggs Th...  female  38.0      1   \n",
       "2                             Heikkinen, Miss. Laina  female  26.0      0   \n",
       "3       Futrelle, Mrs. Jacques Heath (Lily May Peel)  female  35.0      1   \n",
       "4                           Allen, Mr. William Henry    male  35.0      0   \n",
       "\n",
       "   Parch            Ticket     Fare Cabin Embarked  \n",
       "0      0         A/5 21171   7.2500   NaN        S  \n",
       "1      0          PC 17599  71.2833   C85        C  \n",
       "2      0  STON/O2. 3101282   7.9250   NaN        S  \n",
       "3      0            113803  53.1000  C123        S  \n",
       "4      0            373450   8.0500   NaN        S  "
      ]
     },
     "execution_count": 3,
     "metadata": {},
     "output_type": "execute_result"
    }
   ],
   "source": [
    "df_train.head()"
   ]
  },
  {
   "cell_type": "code",
   "execution_count": 4,
   "id": "de5fe7c2",
   "metadata": {
    "execution": {
     "iopub.execute_input": "2022-01-10T06:32:11.528225Z",
     "iopub.status.busy": "2022-01-10T06:32:11.527430Z",
     "iopub.status.idle": "2022-01-10T06:32:11.531779Z",
     "shell.execute_reply": "2022-01-10T06:32:11.530946Z",
     "shell.execute_reply.started": "2022-01-10T06:22:06.417604Z"
    },
    "papermill": {
     "duration": 0.077039,
     "end_time": "2022-01-10T06:32:11.532022",
     "exception": false,
     "start_time": "2022-01-10T06:32:11.454983",
     "status": "completed"
    },
    "tags": []
   },
   "outputs": [
    {
     "data": {
      "text/html": [
       "<div>\n",
       "<style scoped>\n",
       "    .dataframe tbody tr th:only-of-type {\n",
       "        vertical-align: middle;\n",
       "    }\n",
       "\n",
       "    .dataframe tbody tr th {\n",
       "        vertical-align: top;\n",
       "    }\n",
       "\n",
       "    .dataframe thead th {\n",
       "        text-align: right;\n",
       "    }\n",
       "</style>\n",
       "<table border=\"1\" class=\"dataframe\">\n",
       "  <thead>\n",
       "    <tr style=\"text-align: right;\">\n",
       "      <th></th>\n",
       "      <th>PassengerId</th>\n",
       "      <th>Pclass</th>\n",
       "      <th>Name</th>\n",
       "      <th>Sex</th>\n",
       "      <th>Age</th>\n",
       "      <th>SibSp</th>\n",
       "      <th>Parch</th>\n",
       "      <th>Ticket</th>\n",
       "      <th>Fare</th>\n",
       "      <th>Cabin</th>\n",
       "      <th>Embarked</th>\n",
       "    </tr>\n",
       "  </thead>\n",
       "  <tbody>\n",
       "    <tr>\n",
       "      <th>0</th>\n",
       "      <td>892</td>\n",
       "      <td>3</td>\n",
       "      <td>Kelly, Mr. James</td>\n",
       "      <td>male</td>\n",
       "      <td>34.5</td>\n",
       "      <td>0</td>\n",
       "      <td>0</td>\n",
       "      <td>330911</td>\n",
       "      <td>7.8292</td>\n",
       "      <td>NaN</td>\n",
       "      <td>Q</td>\n",
       "    </tr>\n",
       "    <tr>\n",
       "      <th>1</th>\n",
       "      <td>893</td>\n",
       "      <td>3</td>\n",
       "      <td>Wilkes, Mrs. James (Ellen Needs)</td>\n",
       "      <td>female</td>\n",
       "      <td>47.0</td>\n",
       "      <td>1</td>\n",
       "      <td>0</td>\n",
       "      <td>363272</td>\n",
       "      <td>7.0000</td>\n",
       "      <td>NaN</td>\n",
       "      <td>S</td>\n",
       "    </tr>\n",
       "    <tr>\n",
       "      <th>2</th>\n",
       "      <td>894</td>\n",
       "      <td>2</td>\n",
       "      <td>Myles, Mr. Thomas Francis</td>\n",
       "      <td>male</td>\n",
       "      <td>62.0</td>\n",
       "      <td>0</td>\n",
       "      <td>0</td>\n",
       "      <td>240276</td>\n",
       "      <td>9.6875</td>\n",
       "      <td>NaN</td>\n",
       "      <td>Q</td>\n",
       "    </tr>\n",
       "    <tr>\n",
       "      <th>3</th>\n",
       "      <td>895</td>\n",
       "      <td>3</td>\n",
       "      <td>Wirz, Mr. Albert</td>\n",
       "      <td>male</td>\n",
       "      <td>27.0</td>\n",
       "      <td>0</td>\n",
       "      <td>0</td>\n",
       "      <td>315154</td>\n",
       "      <td>8.6625</td>\n",
       "      <td>NaN</td>\n",
       "      <td>S</td>\n",
       "    </tr>\n",
       "    <tr>\n",
       "      <th>4</th>\n",
       "      <td>896</td>\n",
       "      <td>3</td>\n",
       "      <td>Hirvonen, Mrs. Alexander (Helga E Lindqvist)</td>\n",
       "      <td>female</td>\n",
       "      <td>22.0</td>\n",
       "      <td>1</td>\n",
       "      <td>1</td>\n",
       "      <td>3101298</td>\n",
       "      <td>12.2875</td>\n",
       "      <td>NaN</td>\n",
       "      <td>S</td>\n",
       "    </tr>\n",
       "  </tbody>\n",
       "</table>\n",
       "</div>"
      ],
      "text/plain": [
       "   PassengerId  Pclass                                          Name     Sex  \\\n",
       "0          892       3                              Kelly, Mr. James    male   \n",
       "1          893       3              Wilkes, Mrs. James (Ellen Needs)  female   \n",
       "2          894       2                     Myles, Mr. Thomas Francis    male   \n",
       "3          895       3                              Wirz, Mr. Albert    male   \n",
       "4          896       3  Hirvonen, Mrs. Alexander (Helga E Lindqvist)  female   \n",
       "\n",
       "    Age  SibSp  Parch   Ticket     Fare Cabin Embarked  \n",
       "0  34.5      0      0   330911   7.8292   NaN        Q  \n",
       "1  47.0      1      0   363272   7.0000   NaN        S  \n",
       "2  62.0      0      0   240276   9.6875   NaN        Q  \n",
       "3  27.0      0      0   315154   8.6625   NaN        S  \n",
       "4  22.0      1      1  3101298  12.2875   NaN        S  "
      ]
     },
     "execution_count": 4,
     "metadata": {},
     "output_type": "execute_result"
    }
   ],
   "source": [
    "df_test.head()"
   ]
  },
  {
   "cell_type": "code",
   "execution_count": 5,
   "id": "d0bcc678",
   "metadata": {
    "execution": {
     "iopub.execute_input": "2022-01-10T06:32:11.650961Z",
     "iopub.status.busy": "2022-01-10T06:32:11.649801Z",
     "iopub.status.idle": "2022-01-10T06:32:11.681593Z",
     "shell.execute_reply": "2022-01-10T06:32:11.682293Z",
     "shell.execute_reply.started": "2022-01-10T06:22:06.436857Z"
    },
    "papermill": {
     "duration": 0.092274,
     "end_time": "2022-01-10T06:32:11.682491",
     "exception": false,
     "start_time": "2022-01-10T06:32:11.590217",
     "status": "completed"
    },
    "tags": []
   },
   "outputs": [
    {
     "name": "stdout",
     "output_type": "stream",
     "text": [
      "<class 'pandas.core.frame.DataFrame'>\n",
      "RangeIndex: 891 entries, 0 to 890\n",
      "Data columns (total 12 columns):\n",
      " #   Column       Non-Null Count  Dtype  \n",
      "---  ------       --------------  -----  \n",
      " 0   PassengerId  891 non-null    int64  \n",
      " 1   Survived     891 non-null    int64  \n",
      " 2   Pclass       891 non-null    int64  \n",
      " 3   Name         891 non-null    object \n",
      " 4   Sex          891 non-null    object \n",
      " 5   Age          714 non-null    float64\n",
      " 6   SibSp        891 non-null    int64  \n",
      " 7   Parch        891 non-null    int64  \n",
      " 8   Ticket       891 non-null    object \n",
      " 9   Fare         891 non-null    float64\n",
      " 10  Cabin        204 non-null    object \n",
      " 11  Embarked     889 non-null    object \n",
      "dtypes: float64(2), int64(5), object(5)\n",
      "memory usage: 83.7+ KB\n",
      "_____________________________________________\n",
      "<class 'pandas.core.frame.DataFrame'>\n",
      "RangeIndex: 418 entries, 0 to 417\n",
      "Data columns (total 11 columns):\n",
      " #   Column       Non-Null Count  Dtype  \n",
      "---  ------       --------------  -----  \n",
      " 0   PassengerId  418 non-null    int64  \n",
      " 1   Pclass       418 non-null    int64  \n",
      " 2   Name         418 non-null    object \n",
      " 3   Sex          418 non-null    object \n",
      " 4   Age          332 non-null    float64\n",
      " 5   SibSp        418 non-null    int64  \n",
      " 6   Parch        418 non-null    int64  \n",
      " 7   Ticket       418 non-null    object \n",
      " 8   Fare         417 non-null    float64\n",
      " 9   Cabin        91 non-null     object \n",
      " 10  Embarked     418 non-null    object \n",
      "dtypes: float64(2), int64(4), object(5)\n",
      "memory usage: 36.0+ KB\n"
     ]
    }
   ],
   "source": [
    "df_train.info()\n",
    "print('_'*45)\n",
    "df_test.info()"
   ]
  },
  {
   "cell_type": "markdown",
   "id": "f10c7b3c",
   "metadata": {
    "papermill": {
     "duration": 0.05501,
     "end_time": "2022-01-10T06:32:11.792435",
     "exception": false,
     "start_time": "2022-01-10T06:32:11.737425",
     "status": "completed"
    },
    "tags": []
   },
   "source": [
    "## Precentage Of Null Values"
   ]
  },
  {
   "cell_type": "code",
   "execution_count": 6,
   "id": "40f41db1",
   "metadata": {
    "execution": {
     "iopub.execute_input": "2022-01-10T06:32:11.910555Z",
     "iopub.status.busy": "2022-01-10T06:32:11.909453Z",
     "iopub.status.idle": "2022-01-10T06:32:11.920389Z",
     "shell.execute_reply": "2022-01-10T06:32:11.919823Z",
     "shell.execute_reply.started": "2022-01-10T06:22:06.481631Z"
    },
    "papermill": {
     "duration": 0.073412,
     "end_time": "2022-01-10T06:32:11.920555",
     "exception": false,
     "start_time": "2022-01-10T06:32:11.847143",
     "status": "completed"
    },
    "tags": []
   },
   "outputs": [
    {
     "name": "stdout",
     "output_type": "stream",
     "text": [
      "Train Null Percentage: \n",
      " Cabin          0.771\n",
      "Age            0.199\n",
      "Embarked       0.002\n",
      "PassengerId    0.000\n",
      "Survived       0.000\n",
      "Pclass         0.000\n",
      "Name           0.000\n",
      "Sex            0.000\n",
      "SibSp          0.000\n",
      "Parch          0.000\n",
      "Ticket         0.000\n",
      "Fare           0.000\n",
      "dtype: float64\n",
      "--------------------\n",
      "Test Null Percentage: \n",
      " Cabin          0.782\n",
      "Age            0.206\n",
      "Fare           0.002\n",
      "PassengerId    0.000\n",
      "Pclass         0.000\n",
      "Name           0.000\n",
      "Sex            0.000\n",
      "SibSp          0.000\n",
      "Parch          0.000\n",
      "Ticket         0.000\n",
      "Embarked       0.000\n",
      "dtype: float64\n"
     ]
    }
   ],
   "source": [
    "print('Train Null Percentage: \\n',(df_train.isnull().sum()/len(df_train)).round(3).sort_values(ascending=False))\n",
    "print('-'*20)\n",
    "print('Test Null Percentage: \\n',(df_test.isnull().sum()/len(df_test)).round(3).sort_values(ascending=False))"
   ]
  },
  {
   "cell_type": "code",
   "execution_count": 7,
   "id": "2a3b2604",
   "metadata": {
    "execution": {
     "iopub.execute_input": "2022-01-10T06:32:12.040861Z",
     "iopub.status.busy": "2022-01-10T06:32:12.039994Z",
     "iopub.status.idle": "2022-01-10T06:32:12.071440Z",
     "shell.execute_reply": "2022-01-10T06:32:12.070812Z",
     "shell.execute_reply.started": "2022-01-10T06:22:06.505881Z"
    },
    "papermill": {
     "duration": 0.095278,
     "end_time": "2022-01-10T06:32:12.071587",
     "exception": false,
     "start_time": "2022-01-10T06:32:11.976309",
     "status": "completed"
    },
    "tags": []
   },
   "outputs": [
    {
     "data": {
      "text/html": [
       "<div>\n",
       "<style scoped>\n",
       "    .dataframe tbody tr th:only-of-type {\n",
       "        vertical-align: middle;\n",
       "    }\n",
       "\n",
       "    .dataframe tbody tr th {\n",
       "        vertical-align: top;\n",
       "    }\n",
       "\n",
       "    .dataframe thead th {\n",
       "        text-align: right;\n",
       "    }\n",
       "</style>\n",
       "<table border=\"1\" class=\"dataframe\">\n",
       "  <thead>\n",
       "    <tr style=\"text-align: right;\">\n",
       "      <th></th>\n",
       "      <th>PassengerId</th>\n",
       "      <th>Survived</th>\n",
       "      <th>Pclass</th>\n",
       "      <th>Age</th>\n",
       "      <th>SibSp</th>\n",
       "      <th>Parch</th>\n",
       "      <th>Fare</th>\n",
       "    </tr>\n",
       "  </thead>\n",
       "  <tbody>\n",
       "    <tr>\n",
       "      <th>count</th>\n",
       "      <td>891.00</td>\n",
       "      <td>891.00</td>\n",
       "      <td>891.00</td>\n",
       "      <td>714.00</td>\n",
       "      <td>891.00</td>\n",
       "      <td>891.00</td>\n",
       "      <td>891.00</td>\n",
       "    </tr>\n",
       "    <tr>\n",
       "      <th>mean</th>\n",
       "      <td>446.00</td>\n",
       "      <td>0.38</td>\n",
       "      <td>2.31</td>\n",
       "      <td>29.70</td>\n",
       "      <td>0.52</td>\n",
       "      <td>0.38</td>\n",
       "      <td>32.20</td>\n",
       "    </tr>\n",
       "    <tr>\n",
       "      <th>std</th>\n",
       "      <td>257.35</td>\n",
       "      <td>0.49</td>\n",
       "      <td>0.84</td>\n",
       "      <td>14.53</td>\n",
       "      <td>1.10</td>\n",
       "      <td>0.81</td>\n",
       "      <td>49.69</td>\n",
       "    </tr>\n",
       "    <tr>\n",
       "      <th>min</th>\n",
       "      <td>1.00</td>\n",
       "      <td>0.00</td>\n",
       "      <td>1.00</td>\n",
       "      <td>0.42</td>\n",
       "      <td>0.00</td>\n",
       "      <td>0.00</td>\n",
       "      <td>0.00</td>\n",
       "    </tr>\n",
       "    <tr>\n",
       "      <th>25%</th>\n",
       "      <td>223.50</td>\n",
       "      <td>0.00</td>\n",
       "      <td>2.00</td>\n",
       "      <td>20.12</td>\n",
       "      <td>0.00</td>\n",
       "      <td>0.00</td>\n",
       "      <td>7.91</td>\n",
       "    </tr>\n",
       "    <tr>\n",
       "      <th>50%</th>\n",
       "      <td>446.00</td>\n",
       "      <td>0.00</td>\n",
       "      <td>3.00</td>\n",
       "      <td>28.00</td>\n",
       "      <td>0.00</td>\n",
       "      <td>0.00</td>\n",
       "      <td>14.45</td>\n",
       "    </tr>\n",
       "    <tr>\n",
       "      <th>75%</th>\n",
       "      <td>668.50</td>\n",
       "      <td>1.00</td>\n",
       "      <td>3.00</td>\n",
       "      <td>38.00</td>\n",
       "      <td>1.00</td>\n",
       "      <td>0.00</td>\n",
       "      <td>31.00</td>\n",
       "    </tr>\n",
       "    <tr>\n",
       "      <th>max</th>\n",
       "      <td>891.00</td>\n",
       "      <td>1.00</td>\n",
       "      <td>3.00</td>\n",
       "      <td>80.00</td>\n",
       "      <td>8.00</td>\n",
       "      <td>6.00</td>\n",
       "      <td>512.33</td>\n",
       "    </tr>\n",
       "  </tbody>\n",
       "</table>\n",
       "</div>"
      ],
      "text/plain": [
       "       PassengerId  Survived  Pclass     Age   SibSp   Parch    Fare\n",
       "count       891.00    891.00  891.00  714.00  891.00  891.00  891.00\n",
       "mean        446.00      0.38    2.31   29.70    0.52    0.38   32.20\n",
       "std         257.35      0.49    0.84   14.53    1.10    0.81   49.69\n",
       "min           1.00      0.00    1.00    0.42    0.00    0.00    0.00\n",
       "25%         223.50      0.00    2.00   20.12    0.00    0.00    7.91\n",
       "50%         446.00      0.00    3.00   28.00    0.00    0.00   14.45\n",
       "75%         668.50      1.00    3.00   38.00    1.00    0.00   31.00\n",
       "max         891.00      1.00    3.00   80.00    8.00    6.00  512.33"
      ]
     },
     "execution_count": 7,
     "metadata": {},
     "output_type": "execute_result"
    }
   ],
   "source": [
    "df_train.describe().round(2)"
   ]
  },
  {
   "cell_type": "code",
   "execution_count": 8,
   "id": "9038d0d8",
   "metadata": {
    "execution": {
     "iopub.execute_input": "2022-01-10T06:32:12.194356Z",
     "iopub.status.busy": "2022-01-10T06:32:12.193692Z",
     "iopub.status.idle": "2022-01-10T06:32:12.216335Z",
     "shell.execute_reply": "2022-01-10T06:32:12.216831Z",
     "shell.execute_reply.started": "2022-01-10T06:22:06.546469Z"
    },
    "papermill": {
     "duration": 0.088753,
     "end_time": "2022-01-10T06:32:12.217002",
     "exception": false,
     "start_time": "2022-01-10T06:32:12.128249",
     "status": "completed"
    },
    "tags": []
   },
   "outputs": [
    {
     "data": {
      "text/html": [
       "<div>\n",
       "<style scoped>\n",
       "    .dataframe tbody tr th:only-of-type {\n",
       "        vertical-align: middle;\n",
       "    }\n",
       "\n",
       "    .dataframe tbody tr th {\n",
       "        vertical-align: top;\n",
       "    }\n",
       "\n",
       "    .dataframe thead th {\n",
       "        text-align: right;\n",
       "    }\n",
       "</style>\n",
       "<table border=\"1\" class=\"dataframe\">\n",
       "  <thead>\n",
       "    <tr style=\"text-align: right;\">\n",
       "      <th></th>\n",
       "      <th>PassengerId</th>\n",
       "      <th>Pclass</th>\n",
       "      <th>Age</th>\n",
       "      <th>SibSp</th>\n",
       "      <th>Parch</th>\n",
       "      <th>Fare</th>\n",
       "    </tr>\n",
       "  </thead>\n",
       "  <tbody>\n",
       "    <tr>\n",
       "      <th>count</th>\n",
       "      <td>418.00</td>\n",
       "      <td>418.00</td>\n",
       "      <td>332.00</td>\n",
       "      <td>418.00</td>\n",
       "      <td>418.00</td>\n",
       "      <td>417.00</td>\n",
       "    </tr>\n",
       "    <tr>\n",
       "      <th>mean</th>\n",
       "      <td>1100.50</td>\n",
       "      <td>2.27</td>\n",
       "      <td>30.27</td>\n",
       "      <td>0.45</td>\n",
       "      <td>0.39</td>\n",
       "      <td>35.63</td>\n",
       "    </tr>\n",
       "    <tr>\n",
       "      <th>std</th>\n",
       "      <td>120.81</td>\n",
       "      <td>0.84</td>\n",
       "      <td>14.18</td>\n",
       "      <td>0.90</td>\n",
       "      <td>0.98</td>\n",
       "      <td>55.91</td>\n",
       "    </tr>\n",
       "    <tr>\n",
       "      <th>min</th>\n",
       "      <td>892.00</td>\n",
       "      <td>1.00</td>\n",
       "      <td>0.17</td>\n",
       "      <td>0.00</td>\n",
       "      <td>0.00</td>\n",
       "      <td>0.00</td>\n",
       "    </tr>\n",
       "    <tr>\n",
       "      <th>25%</th>\n",
       "      <td>996.25</td>\n",
       "      <td>1.00</td>\n",
       "      <td>21.00</td>\n",
       "      <td>0.00</td>\n",
       "      <td>0.00</td>\n",
       "      <td>7.90</td>\n",
       "    </tr>\n",
       "    <tr>\n",
       "      <th>50%</th>\n",
       "      <td>1100.50</td>\n",
       "      <td>3.00</td>\n",
       "      <td>27.00</td>\n",
       "      <td>0.00</td>\n",
       "      <td>0.00</td>\n",
       "      <td>14.45</td>\n",
       "    </tr>\n",
       "    <tr>\n",
       "      <th>75%</th>\n",
       "      <td>1204.75</td>\n",
       "      <td>3.00</td>\n",
       "      <td>39.00</td>\n",
       "      <td>1.00</td>\n",
       "      <td>0.00</td>\n",
       "      <td>31.50</td>\n",
       "    </tr>\n",
       "    <tr>\n",
       "      <th>max</th>\n",
       "      <td>1309.00</td>\n",
       "      <td>3.00</td>\n",
       "      <td>76.00</td>\n",
       "      <td>8.00</td>\n",
       "      <td>9.00</td>\n",
       "      <td>512.33</td>\n",
       "    </tr>\n",
       "  </tbody>\n",
       "</table>\n",
       "</div>"
      ],
      "text/plain": [
       "       PassengerId  Pclass     Age   SibSp   Parch    Fare\n",
       "count       418.00  418.00  332.00  418.00  418.00  417.00\n",
       "mean       1100.50    2.27   30.27    0.45    0.39   35.63\n",
       "std         120.81    0.84   14.18    0.90    0.98   55.91\n",
       "min         892.00    1.00    0.17    0.00    0.00    0.00\n",
       "25%         996.25    1.00   21.00    0.00    0.00    7.90\n",
       "50%        1100.50    3.00   27.00    0.00    0.00   14.45\n",
       "75%        1204.75    3.00   39.00    1.00    0.00   31.50\n",
       "max        1309.00    3.00   76.00    8.00    9.00  512.33"
      ]
     },
     "execution_count": 8,
     "metadata": {},
     "output_type": "execute_result"
    }
   ],
   "source": [
    "df_test.describe().round(2)"
   ]
  },
  {
   "cell_type": "markdown",
   "id": "7671b0f3",
   "metadata": {
    "papermill": {
     "duration": 0.055773,
     "end_time": "2022-01-10T06:32:12.328493",
     "exception": false,
     "start_time": "2022-01-10T06:32:12.272720",
     "status": "completed"
    },
    "tags": []
   },
   "source": [
    "## Handling Outlier"
   ]
  },
  {
   "cell_type": "code",
   "execution_count": 9,
   "id": "c4bf3990",
   "metadata": {
    "execution": {
     "iopub.execute_input": "2022-01-10T06:32:12.446117Z",
     "iopub.status.busy": "2022-01-10T06:32:12.443377Z",
     "iopub.status.idle": "2022-01-10T06:32:12.811772Z",
     "shell.execute_reply": "2022-01-10T06:32:12.812273Z",
     "shell.execute_reply.started": "2022-01-10T06:22:06.580873Z"
    },
    "papermill": {
     "duration": 0.427948,
     "end_time": "2022-01-10T06:32:12.812441",
     "exception": false,
     "start_time": "2022-01-10T06:32:12.384493",
     "status": "completed"
    },
    "tags": []
   },
   "outputs": [
    {
     "data": {
      "text/plain": [
       "<AxesSubplot:xlabel='Fare', ylabel='Density'>"
      ]
     },
     "execution_count": 9,
     "metadata": {},
     "output_type": "execute_result"
    },
    {
     "data": {
      "image/png": "[encoded data removed]",
      "text/plain": [
       "<Figure size 432x288 with 1 Axes>"
      ]
     },
     "metadata": {
      "needs_background": "light"
     },
     "output_type": "display_data"
    }
   ],
   "source": [
    "sns.distplot(df_train.Fare)"
   ]
  },
  {
   "cell_type": "code",
   "execution_count": 10,
   "id": "00948e8e",
   "metadata": {
    "execution": {
     "iopub.execute_input": "2022-01-10T06:32:12.930371Z",
     "iopub.status.busy": "2022-01-10T06:32:12.929729Z",
     "iopub.status.idle": "2022-01-10T06:32:13.096580Z",
     "shell.execute_reply": "2022-01-10T06:32:13.095977Z",
     "shell.execute_reply.started": "2022-01-10T06:22:06.964181Z"
    },
    "papermill": {
     "duration": 0.226827,
     "end_time": "2022-01-10T06:32:13.096751",
     "exception": false,
     "start_time": "2022-01-10T06:32:12.869924",
     "status": "completed"
    },
    "tags": []
   },
   "outputs": [
    {
     "data": {
      "text/plain": [
       "<AxesSubplot:xlabel='Fare'>"
      ]
     },
     "execution_count": 10,
     "metadata": {},
     "output_type": "execute_result"
    },
    {
     "data": {
      "image/png": "[encoded data removed]",
      "text/plain": [
       "<Figure size 432x288 with 1 Axes>"
      ]
     },
     "metadata": {
      "needs_background": "light"
     },
     "output_type": "display_data"
    }
   ],
   "source": [
    "sns.boxplot(df_train.Fare)"
   ]
  },
  {
   "cell_type": "code",
   "execution_count": 11,
   "id": "6c170d5d",
   "metadata": {
    "execution": {
     "iopub.execute_input": "2022-01-10T06:32:13.221090Z",
     "iopub.status.busy": "2022-01-10T06:32:13.220422Z",
     "iopub.status.idle": "2022-01-10T06:32:13.229653Z",
     "shell.execute_reply": "2022-01-10T06:32:13.230373Z",
     "shell.execute_reply.started": "2022-01-10T06:22:07.135460Z"
    },
    "papermill": {
     "duration": 0.075757,
     "end_time": "2022-01-10T06:32:13.230601",
     "exception": false,
     "start_time": "2022-01-10T06:32:13.154844",
     "status": "completed"
    },
    "tags": []
   },
   "outputs": [
    {
     "name": "stdout",
     "output_type": "stream",
     "text": [
      "-26.724\n",
      "65.6344\n",
      "32.2042079685746\n"
     ]
    },
    {
     "data": {
      "text/plain": [
       "(None, None, None)"
      ]
     },
     "execution_count": 11,
     "metadata": {},
     "output_type": "execute_result"
    }
   ],
   "source": [
    "IQR = df_train.Fare.quantile(.75) - df_train.Fare.quantile(.25)\n",
    "lower_bound = df_train.Fare.quantile(.25) - (IQR * 1.5)\n",
    "upper_bound = df_train.Fare.quantile(.75) + (IQR * 1.5)\n",
    "print(lower_bound) , print(upper_bound), print(df_train.Fare.mean())"
   ]
  },
  {
   "cell_type": "code",
   "execution_count": 12,
   "id": "2f999a40",
   "metadata": {
    "execution": {
     "iopub.execute_input": "2022-01-10T06:32:13.356081Z",
     "iopub.status.busy": "2022-01-10T06:32:13.355042Z",
     "iopub.status.idle": "2022-01-10T06:32:13.357418Z",
     "shell.execute_reply": "2022-01-10T06:32:13.358014Z",
     "shell.execute_reply.started": "2022-01-10T06:22:07.154460Z"
    },
    "papermill": {
     "duration": 0.068936,
     "end_time": "2022-01-10T06:32:13.358211",
     "exception": false,
     "start_time": "2022-01-10T06:32:13.289275",
     "status": "completed"
    },
    "tags": []
   },
   "outputs": [],
   "source": [
    "df_train.loc[df_train['Fare']>=66,'Fare']=66"
   ]
  },
  {
   "cell_type": "code",
   "execution_count": 13,
   "id": "75c27083",
   "metadata": {
    "execution": {
     "iopub.execute_input": "2022-01-10T06:32:13.490470Z",
     "iopub.status.busy": "2022-01-10T06:32:13.489415Z",
     "iopub.status.idle": "2022-01-10T06:32:13.706503Z",
     "shell.execute_reply": "2022-01-10T06:32:13.706946Z",
     "shell.execute_reply.started": "2022-01-10T06:22:07.165571Z"
    },
    "papermill": {
     "duration": 0.28967,
     "end_time": "2022-01-10T06:32:13.707120",
     "exception": false,
     "start_time": "2022-01-10T06:32:13.417450",
     "status": "completed"
    },
    "tags": []
   },
   "outputs": [
    {
     "data": {
      "text/plain": [
       "<AxesSubplot:xlabel='Fare', ylabel='Density'>"
      ]
     },
     "execution_count": 13,
     "metadata": {},
     "output_type": "execute_result"
    },
    {
     "data": {
      "image/png": "[encoded data removed]",
      "text/plain": [
       "<Figure size 432x288 with 1 Axes>"
      ]
     },
     "metadata": {
      "needs_background": "light"
     },
     "output_type": "display_data"
    }
   ],
   "source": [
    "sns.distplot(df_train.Fare)"
   ]
  },
  {
   "cell_type": "code",
   "execution_count": 14,
   "id": "95a49d17",
   "metadata": {
    "execution": {
     "iopub.execute_input": "2022-01-10T06:32:13.831134Z",
     "iopub.status.busy": "2022-01-10T06:32:13.830541Z",
     "iopub.status.idle": "2022-01-10T06:32:13.955375Z",
     "shell.execute_reply": "2022-01-10T06:32:13.955930Z",
     "shell.execute_reply.started": "2022-01-10T06:22:07.431828Z"
    },
    "papermill": {
     "duration": 0.188551,
     "end_time": "2022-01-10T06:32:13.956108",
     "exception": false,
     "start_time": "2022-01-10T06:32:13.767557",
     "status": "completed"
    },
    "tags": []
   },
   "outputs": [
    {
     "data": {
      "text/plain": [
       "<AxesSubplot:xlabel='Fare'>"
      ]
     },
     "execution_count": 14,
     "metadata": {},
     "output_type": "execute_result"
    },
    {
     "data": {
      "image/png": "[encoded data removed]",
      "text/plain": [
       "<Figure size 432x288 with 1 Axes>"
      ]
     },
     "metadata": {
      "needs_background": "light"
     },
     "output_type": "display_data"
    }
   ],
   "source": [
    "sns.boxplot(df_train.Fare)"
   ]
  },
  {
   "cell_type": "markdown",
   "id": "85034dc1",
   "metadata": {
    "papermill": {
     "duration": 0.061463,
     "end_time": "2022-01-10T06:32:14.078871",
     "exception": false,
     "start_time": "2022-01-10T06:32:14.017408",
     "status": "completed"
    },
    "tags": []
   },
   "source": [
    "## Fill Null Age Values By Grouping Sex and Pclass "
   ]
  },
  {
   "cell_type": "code",
   "execution_count": 15,
   "id": "d86c7d5a",
   "metadata": {
    "execution": {
     "iopub.execute_input": "2022-01-10T06:32:14.209572Z",
     "iopub.status.busy": "2022-01-10T06:32:14.204956Z",
     "iopub.status.idle": "2022-01-10T06:32:14.231912Z",
     "shell.execute_reply": "2022-01-10T06:32:14.231299Z",
     "shell.execute_reply.started": "2022-01-10T06:22:07.609894Z"
    },
    "papermill": {
     "duration": 0.091185,
     "end_time": "2022-01-10T06:32:14.232053",
     "exception": false,
     "start_time": "2022-01-10T06:32:14.140868",
     "status": "completed"
    },
    "tags": []
   },
   "outputs": [],
   "source": [
    "df_train['age'] = df_train.groupby(['Sex','Pclass'],as_index=False)['Age'].transform('mean').round()"
   ]
  },
  {
   "cell_type": "code",
   "execution_count": 16,
   "id": "fd641ad8",
   "metadata": {
    "execution": {
     "iopub.execute_input": "2022-01-10T06:32:14.379043Z",
     "iopub.status.busy": "2022-01-10T06:32:14.378211Z",
     "iopub.status.idle": "2022-01-10T06:32:14.381374Z",
     "shell.execute_reply": "2022-01-10T06:32:14.381843Z",
     "shell.execute_reply.started": "2022-01-10T06:22:07.638447Z"
    },
    "papermill": {
     "duration": 0.087272,
     "end_time": "2022-01-10T06:32:14.382009",
     "exception": false,
     "start_time": "2022-01-10T06:32:14.294737",
     "status": "completed"
    },
    "tags": []
   },
   "outputs": [
    {
     "data": {
      "text/plain": [
       "0      27.0\n",
       "1      35.0\n",
       "2      22.0\n",
       "3      35.0\n",
       "4      27.0\n",
       "       ... \n",
       "886    31.0\n",
       "887    35.0\n",
       "888    22.0\n",
       "889    41.0\n",
       "890    27.0\n",
       "Name: age, Length: 891, dtype: float64"
      ]
     },
     "execution_count": 16,
     "metadata": {},
     "output_type": "execute_result"
    }
   ],
   "source": [
    "df_train.age"
   ]
  },
  {
   "cell_type": "code",
   "execution_count": 17,
   "id": "94ca2dfd",
   "metadata": {
    "execution": {
     "iopub.execute_input": "2022-01-10T06:32:14.506877Z",
     "iopub.status.busy": "2022-01-10T06:32:14.505865Z",
     "iopub.status.idle": "2022-01-10T06:32:14.510104Z",
     "shell.execute_reply": "2022-01-10T06:32:14.510613Z",
     "shell.execute_reply.started": "2022-01-10T06:22:07.648481Z"
    },
    "papermill": {
     "duration": 0.068816,
     "end_time": "2022-01-10T06:32:14.510782",
     "exception": false,
     "start_time": "2022-01-10T06:32:14.441966",
     "status": "completed"
    },
    "tags": []
   },
   "outputs": [],
   "source": [
    "df_train.Age.fillna(df_train['age'],inplace=True)"
   ]
  },
  {
   "cell_type": "markdown",
   "id": "cd94b4f8",
   "metadata": {
    "papermill": {
     "duration": 0.060067,
     "end_time": "2022-01-10T06:32:14.631606",
     "exception": false,
     "start_time": "2022-01-10T06:32:14.571539",
     "status": "completed"
    },
    "tags": []
   },
   "source": [
    "## Handling Age Outlier"
   ]
  },
  {
   "cell_type": "code",
   "execution_count": 18,
   "id": "3e578dbc",
   "metadata": {
    "execution": {
     "iopub.execute_input": "2022-01-10T06:32:14.757614Z",
     "iopub.status.busy": "2022-01-10T06:32:14.756633Z",
     "iopub.status.idle": "2022-01-10T06:32:14.979652Z",
     "shell.execute_reply": "2022-01-10T06:32:14.980196Z",
     "shell.execute_reply.started": "2022-01-10T06:22:07.660480Z"
    },
    "papermill": {
     "duration": 0.288739,
     "end_time": "2022-01-10T06:32:14.980375",
     "exception": false,
     "start_time": "2022-01-10T06:32:14.691636",
     "status": "completed"
    },
    "tags": []
   },
   "outputs": [
    {
     "data": {
      "text/plain": [
       "<AxesSubplot:xlabel='Age', ylabel='Density'>"
      ]
     },
     "execution_count": 18,
     "metadata": {},
     "output_type": "execute_result"
    },
    {
     "data": {
      "image/png": "[encoded data removed]",
      "text/plain": [
       "<Figure size 432x288 with 1 Axes>"
      ]
     },
     "metadata": {
      "needs_background": "light"
     },
     "output_type": "display_data"
    }
   ],
   "source": [
    "sns.distplot(df_train['Age'])"
   ]
  },
  {
   "cell_type": "code",
   "execution_count": 19,
   "id": "1c8ce51a",
   "metadata": {
    "execution": {
     "iopub.execute_input": "2022-01-10T06:32:15.111044Z",
     "iopub.status.busy": "2022-01-10T06:32:15.110026Z",
     "iopub.status.idle": "2022-01-10T06:32:15.242556Z",
     "shell.execute_reply": "2022-01-10T06:32:15.243166Z",
     "shell.execute_reply.started": "2022-01-10T06:22:07.974783Z"
    },
    "papermill": {
     "duration": 0.201455,
     "end_time": "2022-01-10T06:32:15.243371",
     "exception": false,
     "start_time": "2022-01-10T06:32:15.041916",
     "status": "completed"
    },
    "tags": []
   },
   "outputs": [
    {
     "data": {
      "text/plain": [
       "<AxesSubplot:xlabel='Age'>"
      ]
     },
     "execution_count": 19,
     "metadata": {},
     "output_type": "execute_result"
    },
    {
     "data": {
      "image/png": "[encoded data removed]",
      "text/plain": [
       "<Figure size 432x288 with 1 Axes>"
      ]
     },
     "metadata": {
      "needs_background": "light"
     },
     "output_type": "display_data"
    }
   ],
   "source": [
    "sns.boxplot(df_train.Age)"
   ]
  },
  {
   "cell_type": "code",
   "execution_count": 20,
   "id": "af5dc01e",
   "metadata": {
    "execution": {
     "iopub.execute_input": "2022-01-10T06:32:15.374292Z",
     "iopub.status.busy": "2022-01-10T06:32:15.373197Z",
     "iopub.status.idle": "2022-01-10T06:32:15.386780Z",
     "shell.execute_reply": "2022-01-10T06:32:15.387600Z",
     "shell.execute_reply.started": "2022-01-10T06:22:08.164256Z"
    },
    "papermill": {
     "duration": 0.080646,
     "end_time": "2022-01-10T06:32:15.387797",
     "exception": false,
     "start_time": "2022-01-10T06:32:15.307151",
     "status": "completed"
    },
    "tags": []
   },
   "outputs": [
    {
     "name": "stdout",
     "output_type": "stream",
     "text": [
      "1.0\n",
      "57.0\n",
      "29.38290684624018\n"
     ]
    },
    {
     "data": {
      "text/plain": [
       "(None, None, None)"
      ]
     },
     "execution_count": 20,
     "metadata": {},
     "output_type": "execute_result"
    }
   ],
   "source": [
    "IQR = df_train.Age.quantile(.75) - df_train.Age.quantile(.25)\n",
    "lower_bound = df_train.Age.quantile(.25) - (IQR * 1.5)\n",
    "upper_bound = df_train.Age.quantile(.75) + (IQR * 1.5)\n",
    "print(lower_bound) , print(upper_bound), print(df_train.Age.mean())"
   ]
  },
  {
   "cell_type": "code",
   "execution_count": 21,
   "id": "1e46a9a7",
   "metadata": {
    "execution": {
     "iopub.execute_input": "2022-01-10T06:32:15.520385Z",
     "iopub.status.busy": "2022-01-10T06:32:15.519609Z",
     "iopub.status.idle": "2022-01-10T06:32:15.525068Z",
     "shell.execute_reply": "2022-01-10T06:32:15.525620Z",
     "shell.execute_reply.started": "2022-01-10T06:22:08.179625Z"
    },
    "papermill": {
     "duration": 0.073934,
     "end_time": "2022-01-10T06:32:15.525812",
     "exception": false,
     "start_time": "2022-01-10T06:32:15.451878",
     "status": "completed"
    },
    "tags": []
   },
   "outputs": [],
   "source": [
    "df_train.loc[df_train['Age']>=57,'Age']=57"
   ]
  },
  {
   "cell_type": "code",
   "execution_count": 22,
   "id": "98b89adf",
   "metadata": {
    "execution": {
     "iopub.execute_input": "2022-01-10T06:32:15.671526Z",
     "iopub.status.busy": "2022-01-10T06:32:15.670259Z",
     "iopub.status.idle": "2022-01-10T06:32:15.904700Z",
     "shell.execute_reply": "2022-01-10T06:32:15.904103Z",
     "shell.execute_reply.started": "2022-01-10T06:22:08.189878Z"
    },
    "papermill": {
     "duration": 0.313814,
     "end_time": "2022-01-10T06:32:15.904857",
     "exception": false,
     "start_time": "2022-01-10T06:32:15.591043",
     "status": "completed"
    },
    "tags": []
   },
   "outputs": [
    {
     "data": {
      "text/plain": [
       "<AxesSubplot:xlabel='Age', ylabel='Density'>"
      ]
     },
     "execution_count": 22,
     "metadata": {},
     "output_type": "execute_result"
    },
    {
     "data": {
      "image/png": "[encoded data removed]",
      "text/plain": [
       "<Figure size 432x288 with 1 Axes>"
      ]
     },
     "metadata": {
      "needs_background": "light"
     },
     "output_type": "display_data"
    }
   ],
   "source": [
    "sns.distplot(df_train['Age'])"
   ]
  },
  {
   "cell_type": "code",
   "execution_count": 23,
   "id": "98aacdbb",
   "metadata": {
    "execution": {
     "iopub.execute_input": "2022-01-10T06:32:16.059538Z",
     "iopub.status.busy": "2022-01-10T06:32:16.041915Z",
     "iopub.status.idle": "2022-01-10T06:32:16.158967Z",
     "shell.execute_reply": "2022-01-10T06:32:16.160371Z",
     "shell.execute_reply.started": "2022-01-10T06:22:08.445076Z"
    },
    "papermill": {
     "duration": 0.190278,
     "end_time": "2022-01-10T06:32:16.160708",
     "exception": false,
     "start_time": "2022-01-10T06:32:15.970430",
     "status": "completed"
    },
    "tags": []
   },
   "outputs": [
    {
     "data": {
      "text/plain": [
       "<AxesSubplot:xlabel='Age'>"
      ]
     },
     "execution_count": 23,
     "metadata": {},
     "output_type": "execute_result"
    },
    {
     "data": {
      "image/png": "[encoded data removed]",
      "text/plain": [
       "<Figure size 432x288 with 1 Axes>"
      ]
     },
     "metadata": {
      "needs_background": "light"
     },
     "output_type": "display_data"
    }
   ],
   "source": [
    "sns.boxplot(df_train.Age)"
   ]
  },
  {
   "cell_type": "markdown",
   "id": "c0924db8",
   "metadata": {
    "papermill": {
     "duration": 0.069079,
     "end_time": "2022-01-10T06:32:16.312825",
     "exception": false,
     "start_time": "2022-01-10T06:32:16.243746",
     "status": "completed"
    },
    "tags": []
   },
   "source": [
    "## EDA"
   ]
  },
  {
   "cell_type": "code",
   "execution_count": 24,
   "id": "e4a5f376",
   "metadata": {
    "execution": {
     "iopub.execute_input": "2022-01-10T06:32:16.459524Z",
     "iopub.status.busy": "2022-01-10T06:32:16.458789Z",
     "iopub.status.idle": "2022-01-10T06:32:16.468211Z",
     "shell.execute_reply": "2022-01-10T06:32:16.467686Z",
     "shell.execute_reply.started": "2022-01-10T06:22:08.571532Z"
    },
    "papermill": {
     "duration": 0.082998,
     "end_time": "2022-01-10T06:32:16.468361",
     "exception": false,
     "start_time": "2022-01-10T06:32:16.385363",
     "status": "completed"
    },
    "tags": []
   },
   "outputs": [
    {
     "data": {
      "text/html": [
       "<div>\n",
       "<style scoped>\n",
       "    .dataframe tbody tr th:only-of-type {\n",
       "        vertical-align: middle;\n",
       "    }\n",
       "\n",
       "    .dataframe tbody tr th {\n",
       "        vertical-align: top;\n",
       "    }\n",
       "\n",
       "    .dataframe thead th {\n",
       "        text-align: right;\n",
       "    }\n",
       "</style>\n",
       "<table border=\"1\" class=\"dataframe\">\n",
       "  <thead>\n",
       "    <tr style=\"text-align: right;\">\n",
       "      <th></th>\n",
       "      <th>SibSp</th>\n",
       "      <th>Survived</th>\n",
       "    </tr>\n",
       "  </thead>\n",
       "  <tbody>\n",
       "    <tr>\n",
       "      <th>1</th>\n",
       "      <td>1</td>\n",
       "      <td>0.535885</td>\n",
       "    </tr>\n",
       "    <tr>\n",
       "      <th>2</th>\n",
       "      <td>2</td>\n",
       "      <td>0.464286</td>\n",
       "    </tr>\n",
       "    <tr>\n",
       "      <th>0</th>\n",
       "      <td>0</td>\n",
       "      <td>0.345395</td>\n",
       "    </tr>\n",
       "    <tr>\n",
       "      <th>3</th>\n",
       "      <td>3</td>\n",
       "      <td>0.250000</td>\n",
       "    </tr>\n",
       "    <tr>\n",
       "      <th>4</th>\n",
       "      <td>4</td>\n",
       "      <td>0.166667</td>\n",
       "    </tr>\n",
       "    <tr>\n",
       "      <th>5</th>\n",
       "      <td>5</td>\n",
       "      <td>0.000000</td>\n",
       "    </tr>\n",
       "    <tr>\n",
       "      <th>6</th>\n",
       "      <td>8</td>\n",
       "      <td>0.000000</td>\n",
       "    </tr>\n",
       "  </tbody>\n",
       "</table>\n",
       "</div>"
      ],
      "text/plain": [
       "   SibSp  Survived\n",
       "1      1  0.535885\n",
       "2      2  0.464286\n",
       "0      0  0.345395\n",
       "3      3  0.250000\n",
       "4      4  0.166667\n",
       "5      5  0.000000\n",
       "6      8  0.000000"
      ]
     },
     "execution_count": 24,
     "metadata": {},
     "output_type": "execute_result"
    }
   ],
   "source": [
    "df_train.groupby(['SibSp'],as_index=False)['Survived'].mean().sort_values(by='Survived',ascending=False)"
   ]
  },
  {
   "cell_type": "code",
   "execution_count": 25,
   "id": "399a2c84",
   "metadata": {
    "execution": {
     "iopub.execute_input": "2022-01-10T06:32:16.612704Z",
     "iopub.status.busy": "2022-01-10T06:32:16.612012Z",
     "iopub.status.idle": "2022-01-10T06:32:16.624487Z",
     "shell.execute_reply": "2022-01-10T06:32:16.623825Z",
     "shell.execute_reply.started": "2022-01-10T06:22:08.598017Z"
    },
    "papermill": {
     "duration": 0.082469,
     "end_time": "2022-01-10T06:32:16.624664",
     "exception": false,
     "start_time": "2022-01-10T06:32:16.542195",
     "status": "completed"
    },
    "tags": []
   },
   "outputs": [
    {
     "data": {
      "text/html": [
       "<div>\n",
       "<style scoped>\n",
       "    .dataframe tbody tr th:only-of-type {\n",
       "        vertical-align: middle;\n",
       "    }\n",
       "\n",
       "    .dataframe tbody tr th {\n",
       "        vertical-align: top;\n",
       "    }\n",
       "\n",
       "    .dataframe thead th {\n",
       "        text-align: right;\n",
       "    }\n",
       "</style>\n",
       "<table border=\"1\" class=\"dataframe\">\n",
       "  <thead>\n",
       "    <tr style=\"text-align: right;\">\n",
       "      <th></th>\n",
       "      <th>Pclass</th>\n",
       "      <th>Survived</th>\n",
       "    </tr>\n",
       "  </thead>\n",
       "  <tbody>\n",
       "    <tr>\n",
       "      <th>0</th>\n",
       "      <td>1</td>\n",
       "      <td>0.629630</td>\n",
       "    </tr>\n",
       "    <tr>\n",
       "      <th>1</th>\n",
       "      <td>2</td>\n",
       "      <td>0.472826</td>\n",
       "    </tr>\n",
       "    <tr>\n",
       "      <th>2</th>\n",
       "      <td>3</td>\n",
       "      <td>0.242363</td>\n",
       "    </tr>\n",
       "  </tbody>\n",
       "</table>\n",
       "</div>"
      ],
      "text/plain": [
       "   Pclass  Survived\n",
       "0       1  0.629630\n",
       "1       2  0.472826\n",
       "2       3  0.242363"
      ]
     },
     "execution_count": 25,
     "metadata": {},
     "output_type": "execute_result"
    }
   ],
   "source": [
    "df_train.groupby(['Pclass'],as_index=False)['Survived'].mean()"
   ]
  },
  {
   "cell_type": "code",
   "execution_count": 26,
   "id": "641c6b80",
   "metadata": {
    "execution": {
     "iopub.execute_input": "2022-01-10T06:32:16.773617Z",
     "iopub.status.busy": "2022-01-10T06:32:16.772753Z",
     "iopub.status.idle": "2022-01-10T06:32:16.776119Z",
     "shell.execute_reply": "2022-01-10T06:32:16.776622Z",
     "shell.execute_reply.started": "2022-01-10T06:22:08.616267Z"
    },
    "papermill": {
     "duration": 0.08364,
     "end_time": "2022-01-10T06:32:16.776796",
     "exception": false,
     "start_time": "2022-01-10T06:32:16.693156",
     "status": "completed"
    },
    "tags": []
   },
   "outputs": [
    {
     "data": {
      "text/html": [
       "<div>\n",
       "<style scoped>\n",
       "    .dataframe tbody tr th:only-of-type {\n",
       "        vertical-align: middle;\n",
       "    }\n",
       "\n",
       "    .dataframe tbody tr th {\n",
       "        vertical-align: top;\n",
       "    }\n",
       "\n",
       "    .dataframe thead th {\n",
       "        text-align: right;\n",
       "    }\n",
       "</style>\n",
       "<table border=\"1\" class=\"dataframe\">\n",
       "  <thead>\n",
       "    <tr style=\"text-align: right;\">\n",
       "      <th></th>\n",
       "      <th>Sex</th>\n",
       "      <th>Survived</th>\n",
       "    </tr>\n",
       "  </thead>\n",
       "  <tbody>\n",
       "    <tr>\n",
       "      <th>0</th>\n",
       "      <td>female</td>\n",
       "      <td>0.742038</td>\n",
       "    </tr>\n",
       "    <tr>\n",
       "      <th>1</th>\n",
       "      <td>male</td>\n",
       "      <td>0.188908</td>\n",
       "    </tr>\n",
       "  </tbody>\n",
       "</table>\n",
       "</div>"
      ],
      "text/plain": [
       "      Sex  Survived\n",
       "0  female  0.742038\n",
       "1    male  0.188908"
      ]
     },
     "execution_count": 26,
     "metadata": {},
     "output_type": "execute_result"
    }
   ],
   "source": [
    "df_train.groupby(['Sex'],as_index=False)['Survived'].mean()"
   ]
  },
  {
   "cell_type": "code",
   "execution_count": 27,
   "id": "f174520c",
   "metadata": {
    "execution": {
     "iopub.execute_input": "2022-01-10T06:32:16.915931Z",
     "iopub.status.busy": "2022-01-10T06:32:16.915263Z",
     "iopub.status.idle": "2022-01-10T06:32:16.928722Z",
     "shell.execute_reply": "2022-01-10T06:32:16.929305Z",
     "shell.execute_reply.started": "2022-01-10T06:22:08.636247Z"
    },
    "papermill": {
     "duration": 0.0846,
     "end_time": "2022-01-10T06:32:16.929484",
     "exception": false,
     "start_time": "2022-01-10T06:32:16.844884",
     "status": "completed"
    },
    "tags": []
   },
   "outputs": [
    {
     "data": {
      "text/html": [
       "<div>\n",
       "<style scoped>\n",
       "    .dataframe tbody tr th:only-of-type {\n",
       "        vertical-align: middle;\n",
       "    }\n",
       "\n",
       "    .dataframe tbody tr th {\n",
       "        vertical-align: top;\n",
       "    }\n",
       "\n",
       "    .dataframe thead th {\n",
       "        text-align: right;\n",
       "    }\n",
       "</style>\n",
       "<table border=\"1\" class=\"dataframe\">\n",
       "  <thead>\n",
       "    <tr style=\"text-align: right;\">\n",
       "      <th></th>\n",
       "      <th>Sex</th>\n",
       "      <th>Parch</th>\n",
       "      <th>Survived</th>\n",
       "    </tr>\n",
       "  </thead>\n",
       "  <tbody>\n",
       "    <tr>\n",
       "      <th>0</th>\n",
       "      <td>female</td>\n",
       "      <td>0</td>\n",
       "      <td>0.788660</td>\n",
       "    </tr>\n",
       "    <tr>\n",
       "      <th>1</th>\n",
       "      <td>female</td>\n",
       "      <td>1</td>\n",
       "      <td>0.766667</td>\n",
       "    </tr>\n",
       "    <tr>\n",
       "      <th>2</th>\n",
       "      <td>female</td>\n",
       "      <td>2</td>\n",
       "      <td>0.612245</td>\n",
       "    </tr>\n",
       "    <tr>\n",
       "      <th>3</th>\n",
       "      <td>female</td>\n",
       "      <td>3</td>\n",
       "      <td>0.750000</td>\n",
       "    </tr>\n",
       "    <tr>\n",
       "      <th>4</th>\n",
       "      <td>female</td>\n",
       "      <td>4</td>\n",
       "      <td>0.000000</td>\n",
       "    </tr>\n",
       "    <tr>\n",
       "      <th>5</th>\n",
       "      <td>female</td>\n",
       "      <td>5</td>\n",
       "      <td>0.250000</td>\n",
       "    </tr>\n",
       "    <tr>\n",
       "      <th>6</th>\n",
       "      <td>female</td>\n",
       "      <td>6</td>\n",
       "      <td>0.000000</td>\n",
       "    </tr>\n",
       "    <tr>\n",
       "      <th>7</th>\n",
       "      <td>male</td>\n",
       "      <td>0</td>\n",
       "      <td>0.165289</td>\n",
       "    </tr>\n",
       "    <tr>\n",
       "      <th>8</th>\n",
       "      <td>male</td>\n",
       "      <td>1</td>\n",
       "      <td>0.327586</td>\n",
       "    </tr>\n",
       "    <tr>\n",
       "      <th>9</th>\n",
       "      <td>male</td>\n",
       "      <td>2</td>\n",
       "      <td>0.322581</td>\n",
       "    </tr>\n",
       "    <tr>\n",
       "      <th>10</th>\n",
       "      <td>male</td>\n",
       "      <td>3</td>\n",
       "      <td>0.000000</td>\n",
       "    </tr>\n",
       "    <tr>\n",
       "      <th>11</th>\n",
       "      <td>male</td>\n",
       "      <td>4</td>\n",
       "      <td>0.000000</td>\n",
       "    </tr>\n",
       "    <tr>\n",
       "      <th>12</th>\n",
       "      <td>male</td>\n",
       "      <td>5</td>\n",
       "      <td>0.000000</td>\n",
       "    </tr>\n",
       "  </tbody>\n",
       "</table>\n",
       "</div>"
      ],
      "text/plain": [
       "       Sex  Parch  Survived\n",
       "0   female      0  0.788660\n",
       "1   female      1  0.766667\n",
       "2   female      2  0.612245\n",
       "3   female      3  0.750000\n",
       "4   female      4  0.000000\n",
       "5   female      5  0.250000\n",
       "6   female      6  0.000000\n",
       "7     male      0  0.165289\n",
       "8     male      1  0.327586\n",
       "9     male      2  0.322581\n",
       "10    male      3  0.000000\n",
       "11    male      4  0.000000\n",
       "12    male      5  0.000000"
      ]
     },
     "execution_count": 27,
     "metadata": {},
     "output_type": "execute_result"
    }
   ],
   "source": [
    "df_train.groupby(['Sex','Parch'],as_index=False)['Survived'].mean()"
   ]
  },
  {
   "cell_type": "code",
   "execution_count": 28,
   "id": "d94683c2",
   "metadata": {
    "execution": {
     "iopub.execute_input": "2022-01-10T06:32:17.071201Z",
     "iopub.status.busy": "2022-01-10T06:32:17.070537Z",
     "iopub.status.idle": "2022-01-10T06:32:17.085452Z",
     "shell.execute_reply": "2022-01-10T06:32:17.085988Z",
     "shell.execute_reply.started": "2022-01-10T06:22:08.664380Z"
    },
    "papermill": {
     "duration": 0.088746,
     "end_time": "2022-01-10T06:32:17.086164",
     "exception": false,
     "start_time": "2022-01-10T06:32:16.997418",
     "status": "completed"
    },
    "tags": []
   },
   "outputs": [
    {
     "data": {
      "text/html": [
       "<div>\n",
       "<style scoped>\n",
       "    .dataframe tbody tr th:only-of-type {\n",
       "        vertical-align: middle;\n",
       "    }\n",
       "\n",
       "    .dataframe tbody tr th {\n",
       "        vertical-align: top;\n",
       "    }\n",
       "\n",
       "    .dataframe thead th {\n",
       "        text-align: right;\n",
       "    }\n",
       "</style>\n",
       "<table border=\"1\" class=\"dataframe\">\n",
       "  <thead>\n",
       "    <tr style=\"text-align: right;\">\n",
       "      <th></th>\n",
       "      <th>age</th>\n",
       "      <th>Survived</th>\n",
       "    </tr>\n",
       "  </thead>\n",
       "  <tbody>\n",
       "    <tr>\n",
       "      <th>4</th>\n",
       "      <td>35.0</td>\n",
       "      <td>0.968085</td>\n",
       "    </tr>\n",
       "    <tr>\n",
       "      <th>2</th>\n",
       "      <td>29.0</td>\n",
       "      <td>0.921053</td>\n",
       "    </tr>\n",
       "    <tr>\n",
       "      <th>0</th>\n",
       "      <td>22.0</td>\n",
       "      <td>0.500000</td>\n",
       "    </tr>\n",
       "    <tr>\n",
       "      <th>5</th>\n",
       "      <td>41.0</td>\n",
       "      <td>0.368852</td>\n",
       "    </tr>\n",
       "    <tr>\n",
       "      <th>3</th>\n",
       "      <td>31.0</td>\n",
       "      <td>0.157407</td>\n",
       "    </tr>\n",
       "    <tr>\n",
       "      <th>1</th>\n",
       "      <td>27.0</td>\n",
       "      <td>0.135447</td>\n",
       "    </tr>\n",
       "  </tbody>\n",
       "</table>\n",
       "</div>"
      ],
      "text/plain": [
       "    age  Survived\n",
       "4  35.0  0.968085\n",
       "2  29.0  0.921053\n",
       "0  22.0  0.500000\n",
       "5  41.0  0.368852\n",
       "3  31.0  0.157407\n",
       "1  27.0  0.135447"
      ]
     },
     "execution_count": 28,
     "metadata": {},
     "output_type": "execute_result"
    }
   ],
   "source": [
    "df_train.groupby(['age'],as_index=False)['Survived'].mean().sort_values(by='Survived',ascending=False)"
   ]
  },
  {
   "cell_type": "code",
   "execution_count": 29,
   "id": "1c301f30",
   "metadata": {
    "execution": {
     "iopub.execute_input": "2022-01-10T06:32:17.226349Z",
     "iopub.status.busy": "2022-01-10T06:32:17.225713Z",
     "iopub.status.idle": "2022-01-10T06:32:17.668363Z",
     "shell.execute_reply": "2022-01-10T06:32:17.667636Z",
     "shell.execute_reply.started": "2022-01-10T06:22:08.689426Z"
    },
    "papermill": {
     "duration": 0.514001,
     "end_time": "2022-01-10T06:32:17.668518",
     "exception": false,
     "start_time": "2022-01-10T06:32:17.154517",
     "status": "completed"
    },
    "tags": []
   },
   "outputs": [
    {
     "data": {
      "text/plain": [
       "<seaborn.axisgrid.FacetGrid at 0x7f53ce5ea250>"
      ]
     },
     "execution_count": 29,
     "metadata": {},
     "output_type": "execute_result"
    },
    {
     "data": {
      "image/png": "[encoded data removed]",
      "text/plain": [
       "<Figure size 432x216 with 2 Axes>"
      ]
     },
     "metadata": {
      "needs_background": "light"
     },
     "output_type": "display_data"
    }
   ],
   "source": [
    "grid = sns.FacetGrid(df_train,col='Survived')\n",
    "grid.map(plt.hist,'Age')"
   ]
  },
  {
   "cell_type": "code",
   "execution_count": 30,
   "id": "0d7d72a4",
   "metadata": {
    "execution": {
     "iopub.execute_input": "2022-01-10T06:32:17.822331Z",
     "iopub.status.busy": "2022-01-10T06:32:17.821592Z",
     "iopub.status.idle": "2022-01-10T06:32:19.555937Z",
     "shell.execute_reply": "2022-01-10T06:32:19.556508Z",
     "shell.execute_reply.started": "2022-01-10T06:22:09.313455Z"
    },
    "papermill": {
     "duration": 1.818224,
     "end_time": "2022-01-10T06:32:19.556690",
     "exception": false,
     "start_time": "2022-01-10T06:32:17.738466",
     "status": "completed"
    },
    "tags": []
   },
   "outputs": [
    {
     "data": {
      "text/plain": [
       "<seaborn.axisgrid.FacetGrid at 0x7f53ce4ea750>"
      ]
     },
     "execution_count": 30,
     "metadata": {},
     "output_type": "execute_result"
    },
    {
     "data": {
      "image/png": "[encoded data removed]",
      "text/plain": [
       "<Figure size 514.88x475.2 with 6 Axes>"
      ]
     },
     "metadata": {
      "needs_background": "light"
     },
     "output_type": "display_data"
    }
   ],
   "source": [
    "grid = sns.FacetGrid(df_train, col='Survived', row='Pclass', size=2.2, aspect=1.6)\n",
    "grid.map(plt.hist, 'Age', alpha=.5, bins=20)\n",
    "grid.add_legend()"
   ]
  },
  {
   "cell_type": "code",
   "execution_count": 31,
   "id": "ba9460a4",
   "metadata": {
    "execution": {
     "iopub.execute_input": "2022-01-10T06:32:19.718481Z",
     "iopub.status.busy": "2022-01-10T06:32:19.717425Z",
     "iopub.status.idle": "2022-01-10T06:32:20.670442Z",
     "shell.execute_reply": "2022-01-10T06:32:20.669758Z",
     "shell.execute_reply.started": "2022-01-10T06:22:10.886743Z"
    },
    "papermill": {
     "duration": 1.032328,
     "end_time": "2022-01-10T06:32:20.670593",
     "exception": false,
     "start_time": "2022-01-10T06:32:19.638265",
     "status": "completed"
    },
    "tags": []
   },
   "outputs": [
    {
     "data": {
      "text/plain": [
       "<seaborn.axisgrid.FacetGrid at 0x7f53ce4f44d0>"
      ]
     },
     "execution_count": 31,
     "metadata": {},
     "output_type": "execute_result"
    },
    {
     "data": {
      "image/png": "[encoded data removed]",
      "text/plain": [
       "<Figure size 432x648 with 6 Axes>"
      ]
     },
     "metadata": {
      "needs_background": "light"
     },
     "output_type": "display_data"
    }
   ],
   "source": [
    "g = sns.FacetGrid(df_train,row='Embarked',col='Survived')\n",
    "g.map(sns.barplot,'Sex','Fare',ci=None)"
   ]
  },
  {
   "cell_type": "markdown",
   "id": "6a0f1695",
   "metadata": {
    "papermill": {
     "duration": 0.071111,
     "end_time": "2022-01-10T06:32:20.813919",
     "exception": false,
     "start_time": "2022-01-10T06:32:20.742808",
     "status": "completed"
    },
    "tags": []
   },
   "source": [
    "# Data Preprocessing "
   ]
  },
  {
   "cell_type": "code",
   "execution_count": 32,
   "id": "13c1792d",
   "metadata": {
    "execution": {
     "iopub.execute_input": "2022-01-10T06:32:20.965456Z",
     "iopub.status.busy": "2022-01-10T06:32:20.962873Z",
     "iopub.status.idle": "2022-01-10T06:32:20.969235Z",
     "shell.execute_reply": "2022-01-10T06:32:20.969765Z",
     "shell.execute_reply.started": "2022-01-10T06:22:11.784528Z"
    },
    "papermill": {
     "duration": 0.08528,
     "end_time": "2022-01-10T06:32:20.969952",
     "exception": false,
     "start_time": "2022-01-10T06:32:20.884672",
     "status": "completed"
    },
    "tags": []
   },
   "outputs": [
    {
     "name": "stdout",
     "output_type": "stream",
     "text": [
      "Before  (891, 13) (418, 11) (891, 13) (418, 11)\n",
      "After  (891, 9) (418, 8) (891, 9) (418, 8)\n"
     ]
    }
   ],
   "source": [
    "concat = [df_train,df_test]\n",
    "print('Before ', df_train.shape, df_test.shape, concat[0].shape, concat[1].shape)\n",
    "df_train.drop(['age','Ticket', 'Cabin','PassengerId'],axis=1,inplace=True)\n",
    "df_test.drop(['Ticket', 'Cabin','PassengerId'],axis=1, inplace=True)\n",
    "print('After ',df_train.shape, df_test.shape, concat[0].shape, concat[1].shape)"
   ]
  },
  {
   "cell_type": "code",
   "execution_count": 33,
   "id": "215b3cb9",
   "metadata": {
    "execution": {
     "iopub.execute_input": "2022-01-10T06:32:21.119969Z",
     "iopub.status.busy": "2022-01-10T06:32:21.119285Z",
     "iopub.status.idle": "2022-01-10T06:32:21.147037Z",
     "shell.execute_reply": "2022-01-10T06:32:21.147499Z",
     "shell.execute_reply.started": "2022-01-10T06:22:11.799171Z"
    },
    "papermill": {
     "duration": 0.105586,
     "end_time": "2022-01-10T06:32:21.147672",
     "exception": false,
     "start_time": "2022-01-10T06:32:21.042086",
     "status": "completed"
    },
    "tags": []
   },
   "outputs": [
    {
     "data": {
      "text/html": [
       "<div>\n",
       "<style scoped>\n",
       "    .dataframe tbody tr th:only-of-type {\n",
       "        vertical-align: middle;\n",
       "    }\n",
       "\n",
       "    .dataframe tbody tr th {\n",
       "        vertical-align: top;\n",
       "    }\n",
       "\n",
       "    .dataframe thead th {\n",
       "        text-align: right;\n",
       "    }\n",
       "</style>\n",
       "<table border=\"1\" class=\"dataframe\">\n",
       "  <thead>\n",
       "    <tr style=\"text-align: right;\">\n",
       "      <th>Sex</th>\n",
       "      <th>female</th>\n",
       "      <th>male</th>\n",
       "    </tr>\n",
       "    <tr>\n",
       "      <th>Title</th>\n",
       "      <th></th>\n",
       "      <th></th>\n",
       "    </tr>\n",
       "  </thead>\n",
       "  <tbody>\n",
       "    <tr>\n",
       "      <th>Capt</th>\n",
       "      <td>0</td>\n",
       "      <td>1</td>\n",
       "    </tr>\n",
       "    <tr>\n",
       "      <th>Col</th>\n",
       "      <td>0</td>\n",
       "      <td>2</td>\n",
       "    </tr>\n",
       "    <tr>\n",
       "      <th>Countess</th>\n",
       "      <td>1</td>\n",
       "      <td>0</td>\n",
       "    </tr>\n",
       "    <tr>\n",
       "      <th>Don</th>\n",
       "      <td>0</td>\n",
       "      <td>1</td>\n",
       "    </tr>\n",
       "    <tr>\n",
       "      <th>Dr</th>\n",
       "      <td>1</td>\n",
       "      <td>6</td>\n",
       "    </tr>\n",
       "    <tr>\n",
       "      <th>Jonkheer</th>\n",
       "      <td>0</td>\n",
       "      <td>1</td>\n",
       "    </tr>\n",
       "    <tr>\n",
       "      <th>Lady</th>\n",
       "      <td>1</td>\n",
       "      <td>0</td>\n",
       "    </tr>\n",
       "    <tr>\n",
       "      <th>Major</th>\n",
       "      <td>0</td>\n",
       "      <td>2</td>\n",
       "    </tr>\n",
       "    <tr>\n",
       "      <th>Master</th>\n",
       "      <td>0</td>\n",
       "      <td>40</td>\n",
       "    </tr>\n",
       "    <tr>\n",
       "      <th>Miss</th>\n",
       "      <td>182</td>\n",
       "      <td>0</td>\n",
       "    </tr>\n",
       "    <tr>\n",
       "      <th>Mlle</th>\n",
       "      <td>2</td>\n",
       "      <td>0</td>\n",
       "    </tr>\n",
       "    <tr>\n",
       "      <th>Mme</th>\n",
       "      <td>1</td>\n",
       "      <td>0</td>\n",
       "    </tr>\n",
       "    <tr>\n",
       "      <th>Mr</th>\n",
       "      <td>0</td>\n",
       "      <td>517</td>\n",
       "    </tr>\n",
       "    <tr>\n",
       "      <th>Mrs</th>\n",
       "      <td>125</td>\n",
       "      <td>0</td>\n",
       "    </tr>\n",
       "    <tr>\n",
       "      <th>Ms</th>\n",
       "      <td>1</td>\n",
       "      <td>0</td>\n",
       "    </tr>\n",
       "    <tr>\n",
       "      <th>Rev</th>\n",
       "      <td>0</td>\n",
       "      <td>6</td>\n",
       "    </tr>\n",
       "    <tr>\n",
       "      <th>Sir</th>\n",
       "      <td>0</td>\n",
       "      <td>1</td>\n",
       "    </tr>\n",
       "  </tbody>\n",
       "</table>\n",
       "</div>"
      ],
      "text/plain": [
       "Sex       female  male\n",
       "Title                 \n",
       "Capt           0     1\n",
       "Col            0     2\n",
       "Countess       1     0\n",
       "Don            0     1\n",
       "Dr             1     6\n",
       "Jonkheer       0     1\n",
       "Lady           1     0\n",
       "Major          0     2\n",
       "Master         0    40\n",
       "Miss         182     0\n",
       "Mlle           2     0\n",
       "Mme            1     0\n",
       "Mr             0   517\n",
       "Mrs          125     0\n",
       "Ms             1     0\n",
       "Rev            0     6\n",
       "Sir            0     1"
      ]
     },
     "execution_count": 33,
     "metadata": {},
     "output_type": "execute_result"
    }
   ],
   "source": [
    "for i in concat:\n",
    "    i['Title'] = i.Name.str.extract(' ([A-Za-z]+)\\.', expand=False)\n",
    "pd.crosstab(df_train['Title'],df_train['Sex'])    "
   ]
  },
  {
   "cell_type": "code",
   "execution_count": 34,
   "id": "fc728dc5",
   "metadata": {
    "execution": {
     "iopub.execute_input": "2022-01-10T06:32:21.301899Z",
     "iopub.status.busy": "2022-01-10T06:32:21.300812Z",
     "iopub.status.idle": "2022-01-10T06:32:21.316471Z",
     "shell.execute_reply": "2022-01-10T06:32:21.317016Z",
     "shell.execute_reply.started": "2022-01-10T06:22:11.838020Z"
    },
    "papermill": {
     "duration": 0.097078,
     "end_time": "2022-01-10T06:32:21.317211",
     "exception": false,
     "start_time": "2022-01-10T06:32:21.220133",
     "status": "completed"
    },
    "tags": []
   },
   "outputs": [
    {
     "data": {
      "text/html": [
       "<div>\n",
       "<style scoped>\n",
       "    .dataframe tbody tr th:only-of-type {\n",
       "        vertical-align: middle;\n",
       "    }\n",
       "\n",
       "    .dataframe tbody tr th {\n",
       "        vertical-align: top;\n",
       "    }\n",
       "\n",
       "    .dataframe thead th {\n",
       "        text-align: right;\n",
       "    }\n",
       "</style>\n",
       "<table border=\"1\" class=\"dataframe\">\n",
       "  <thead>\n",
       "    <tr style=\"text-align: right;\">\n",
       "      <th></th>\n",
       "      <th>Title</th>\n",
       "      <th>Survived</th>\n",
       "    </tr>\n",
       "  </thead>\n",
       "  <tbody>\n",
       "    <tr>\n",
       "      <th>3</th>\n",
       "      <td>Mrs</td>\n",
       "      <td>0.792000</td>\n",
       "    </tr>\n",
       "    <tr>\n",
       "      <th>1</th>\n",
       "      <td>Miss</td>\n",
       "      <td>0.697802</td>\n",
       "    </tr>\n",
       "    <tr>\n",
       "      <th>0</th>\n",
       "      <td>Master</td>\n",
       "      <td>0.575000</td>\n",
       "    </tr>\n",
       "    <tr>\n",
       "      <th>4</th>\n",
       "      <td>Rare</td>\n",
       "      <td>0.444444</td>\n",
       "    </tr>\n",
       "    <tr>\n",
       "      <th>2</th>\n",
       "      <td>Mr</td>\n",
       "      <td>0.156673</td>\n",
       "    </tr>\n",
       "  </tbody>\n",
       "</table>\n",
       "</div>"
      ],
      "text/plain": [
       "    Title  Survived\n",
       "3     Mrs  0.792000\n",
       "1    Miss  0.697802\n",
       "0  Master  0.575000\n",
       "4    Rare  0.444444\n",
       "2      Mr  0.156673"
      ]
     },
     "execution_count": 34,
     "metadata": {},
     "output_type": "execute_result"
    }
   ],
   "source": [
    "for i in concat:\n",
    "    i['Title'] = i['Title'].replace(['Capt','Col','Countess','Don','Dr','Jonkheer','Lady','Major','Mlle',\n",
    "                                    'Mme','Ms','Rev','Sir'],'Rare')\n",
    "df_train.groupby(['Title'],as_index=False)['Survived'].mean().sort_values(by='Survived',ascending=False)"
   ]
  },
  {
   "cell_type": "code",
   "execution_count": 35,
   "id": "c7f1b79b",
   "metadata": {
    "execution": {
     "iopub.execute_input": "2022-01-10T06:32:21.467505Z",
     "iopub.status.busy": "2022-01-10T06:32:21.466449Z",
     "iopub.status.idle": "2022-01-10T06:32:21.489991Z",
     "shell.execute_reply": "2022-01-10T06:32:21.490524Z",
     "shell.execute_reply.started": "2022-01-10T06:22:11.861331Z"
    },
    "papermill": {
     "duration": 0.100162,
     "end_time": "2022-01-10T06:32:21.490700",
     "exception": false,
     "start_time": "2022-01-10T06:32:21.390538",
     "status": "completed"
    },
    "tags": []
   },
   "outputs": [
    {
     "data": {
      "text/html": [
       "<div>\n",
       "<style scoped>\n",
       "    .dataframe tbody tr th:only-of-type {\n",
       "        vertical-align: middle;\n",
       "    }\n",
       "\n",
       "    .dataframe tbody tr th {\n",
       "        vertical-align: top;\n",
       "    }\n",
       "\n",
       "    .dataframe thead th {\n",
       "        text-align: right;\n",
       "    }\n",
       "</style>\n",
       "<table border=\"1\" class=\"dataframe\">\n",
       "  <thead>\n",
       "    <tr style=\"text-align: right;\">\n",
       "      <th></th>\n",
       "      <th>Survived</th>\n",
       "      <th>Pclass</th>\n",
       "      <th>Name</th>\n",
       "      <th>Sex</th>\n",
       "      <th>Age</th>\n",
       "      <th>SibSp</th>\n",
       "      <th>Parch</th>\n",
       "      <th>Fare</th>\n",
       "      <th>Embarked</th>\n",
       "      <th>Title</th>\n",
       "    </tr>\n",
       "  </thead>\n",
       "  <tbody>\n",
       "    <tr>\n",
       "      <th>0</th>\n",
       "      <td>0</td>\n",
       "      <td>3</td>\n",
       "      <td>Braund, Mr. Owen Harris</td>\n",
       "      <td>male</td>\n",
       "      <td>22.0</td>\n",
       "      <td>1</td>\n",
       "      <td>0</td>\n",
       "      <td>7.250</td>\n",
       "      <td>S</td>\n",
       "      <td>2</td>\n",
       "    </tr>\n",
       "    <tr>\n",
       "      <th>1</th>\n",
       "      <td>1</td>\n",
       "      <td>1</td>\n",
       "      <td>Cumings, Mrs. John Bradley (Florence Briggs Th...</td>\n",
       "      <td>female</td>\n",
       "      <td>38.0</td>\n",
       "      <td>1</td>\n",
       "      <td>0</td>\n",
       "      <td>66.000</td>\n",
       "      <td>C</td>\n",
       "      <td>1</td>\n",
       "    </tr>\n",
       "    <tr>\n",
       "      <th>2</th>\n",
       "      <td>1</td>\n",
       "      <td>3</td>\n",
       "      <td>Heikkinen, Miss. Laina</td>\n",
       "      <td>female</td>\n",
       "      <td>26.0</td>\n",
       "      <td>0</td>\n",
       "      <td>0</td>\n",
       "      <td>7.925</td>\n",
       "      <td>S</td>\n",
       "      <td>3</td>\n",
       "    </tr>\n",
       "    <tr>\n",
       "      <th>3</th>\n",
       "      <td>1</td>\n",
       "      <td>1</td>\n",
       "      <td>Futrelle, Mrs. Jacques Heath (Lily May Peel)</td>\n",
       "      <td>female</td>\n",
       "      <td>35.0</td>\n",
       "      <td>1</td>\n",
       "      <td>0</td>\n",
       "      <td>53.100</td>\n",
       "      <td>S</td>\n",
       "      <td>1</td>\n",
       "    </tr>\n",
       "    <tr>\n",
       "      <th>4</th>\n",
       "      <td>0</td>\n",
       "      <td>3</td>\n",
       "      <td>Allen, Mr. William Henry</td>\n",
       "      <td>male</td>\n",
       "      <td>35.0</td>\n",
       "      <td>0</td>\n",
       "      <td>0</td>\n",
       "      <td>8.050</td>\n",
       "      <td>S</td>\n",
       "      <td>2</td>\n",
       "    </tr>\n",
       "    <tr>\n",
       "      <th>...</th>\n",
       "      <td>...</td>\n",
       "      <td>...</td>\n",
       "      <td>...</td>\n",
       "      <td>...</td>\n",
       "      <td>...</td>\n",
       "      <td>...</td>\n",
       "      <td>...</td>\n",
       "      <td>...</td>\n",
       "      <td>...</td>\n",
       "      <td>...</td>\n",
       "    </tr>\n",
       "    <tr>\n",
       "      <th>886</th>\n",
       "      <td>0</td>\n",
       "      <td>2</td>\n",
       "      <td>Montvila, Rev. Juozas</td>\n",
       "      <td>male</td>\n",
       "      <td>27.0</td>\n",
       "      <td>0</td>\n",
       "      <td>0</td>\n",
       "      <td>13.000</td>\n",
       "      <td>S</td>\n",
       "      <td>5</td>\n",
       "    </tr>\n",
       "    <tr>\n",
       "      <th>887</th>\n",
       "      <td>1</td>\n",
       "      <td>1</td>\n",
       "      <td>Graham, Miss. Margaret Edith</td>\n",
       "      <td>female</td>\n",
       "      <td>19.0</td>\n",
       "      <td>0</td>\n",
       "      <td>0</td>\n",
       "      <td>30.000</td>\n",
       "      <td>S</td>\n",
       "      <td>3</td>\n",
       "    </tr>\n",
       "    <tr>\n",
       "      <th>888</th>\n",
       "      <td>0</td>\n",
       "      <td>3</td>\n",
       "      <td>Johnston, Miss. Catherine Helen \"Carrie\"</td>\n",
       "      <td>female</td>\n",
       "      <td>22.0</td>\n",
       "      <td>1</td>\n",
       "      <td>2</td>\n",
       "      <td>23.450</td>\n",
       "      <td>S</td>\n",
       "      <td>3</td>\n",
       "    </tr>\n",
       "    <tr>\n",
       "      <th>889</th>\n",
       "      <td>1</td>\n",
       "      <td>1</td>\n",
       "      <td>Behr, Mr. Karl Howell</td>\n",
       "      <td>male</td>\n",
       "      <td>26.0</td>\n",
       "      <td>0</td>\n",
       "      <td>0</td>\n",
       "      <td>30.000</td>\n",
       "      <td>C</td>\n",
       "      <td>2</td>\n",
       "    </tr>\n",
       "    <tr>\n",
       "      <th>890</th>\n",
       "      <td>0</td>\n",
       "      <td>3</td>\n",
       "      <td>Dooley, Mr. Patrick</td>\n",
       "      <td>male</td>\n",
       "      <td>32.0</td>\n",
       "      <td>0</td>\n",
       "      <td>0</td>\n",
       "      <td>7.750</td>\n",
       "      <td>Q</td>\n",
       "      <td>2</td>\n",
       "    </tr>\n",
       "  </tbody>\n",
       "</table>\n",
       "<p>891 rows × 10 columns</p>\n",
       "</div>"
      ],
      "text/plain": [
       "     Survived  Pclass                                               Name  \\\n",
       "0           0       3                            Braund, Mr. Owen Harris   \n",
       "1           1       1  Cumings, Mrs. John Bradley (Florence Briggs Th...   \n",
       "2           1       3                             Heikkinen, Miss. Laina   \n",
       "3           1       1       Futrelle, Mrs. Jacques Heath (Lily May Peel)   \n",
       "4           0       3                           Allen, Mr. William Henry   \n",
       "..        ...     ...                                                ...   \n",
       "886         0       2                              Montvila, Rev. Juozas   \n",
       "887         1       1                       Graham, Miss. Margaret Edith   \n",
       "888         0       3           Johnston, Miss. Catherine Helen \"Carrie\"   \n",
       "889         1       1                              Behr, Mr. Karl Howell   \n",
       "890         0       3                                Dooley, Mr. Patrick   \n",
       "\n",
       "        Sex   Age  SibSp  Parch    Fare Embarked  Title  \n",
       "0      male  22.0      1      0   7.250        S      2  \n",
       "1    female  38.0      1      0  66.000        C      1  \n",
       "2    female  26.0      0      0   7.925        S      3  \n",
       "3    female  35.0      1      0  53.100        S      1  \n",
       "4      male  35.0      0      0   8.050        S      2  \n",
       "..      ...   ...    ...    ...     ...      ...    ...  \n",
       "886    male  27.0      0      0  13.000        S      5  \n",
       "887  female  19.0      0      0  30.000        S      3  \n",
       "888  female  22.0      1      2  23.450        S      3  \n",
       "889    male  26.0      0      0  30.000        C      2  \n",
       "890    male  32.0      0      0   7.750        Q      2  \n",
       "\n",
       "[891 rows x 10 columns]"
      ]
     },
     "execution_count": 35,
     "metadata": {},
     "output_type": "execute_result"
    }
   ],
   "source": [
    "categ = {'Mrs':1,'Mr':2,'Miss':3,'Master':4,'Rare':5}\n",
    "for i in concat:\n",
    "    i['Title'] = i['Title'].map(categ)\n",
    "df_train"
   ]
  },
  {
   "cell_type": "code",
   "execution_count": 36,
   "id": "e84c333d",
   "metadata": {
    "execution": {
     "iopub.execute_input": "2022-01-10T06:32:21.642985Z",
     "iopub.status.busy": "2022-01-10T06:32:21.641984Z",
     "iopub.status.idle": "2022-01-10T06:32:21.647527Z",
     "shell.execute_reply": "2022-01-10T06:32:21.648099Z",
     "shell.execute_reply.started": "2022-01-10T06:22:11.888806Z"
    },
    "papermill": {
     "duration": 0.083604,
     "end_time": "2022-01-10T06:32:21.648293",
     "exception": false,
     "start_time": "2022-01-10T06:32:21.564689",
     "status": "completed"
    },
    "tags": []
   },
   "outputs": [],
   "source": [
    "df_train.drop('Name',axis=1,inplace=True)"
   ]
  },
  {
   "cell_type": "code",
   "execution_count": 37,
   "id": "23cde1af",
   "metadata": {
    "execution": {
     "iopub.execute_input": "2022-01-10T06:32:21.803307Z",
     "iopub.status.busy": "2022-01-10T06:32:21.802223Z",
     "iopub.status.idle": "2022-01-10T06:32:21.819373Z",
     "shell.execute_reply": "2022-01-10T06:32:21.819973Z",
     "shell.execute_reply.started": "2022-01-10T06:22:11.895958Z"
    },
    "papermill": {
     "duration": 0.097837,
     "end_time": "2022-01-10T06:32:21.820142",
     "exception": false,
     "start_time": "2022-01-10T06:32:21.722305",
     "status": "completed"
    },
    "tags": []
   },
   "outputs": [
    {
     "data": {
      "text/html": [
       "<div>\n",
       "<style scoped>\n",
       "    .dataframe tbody tr th:only-of-type {\n",
       "        vertical-align: middle;\n",
       "    }\n",
       "\n",
       "    .dataframe tbody tr th {\n",
       "        vertical-align: top;\n",
       "    }\n",
       "\n",
       "    .dataframe thead th {\n",
       "        text-align: right;\n",
       "    }\n",
       "</style>\n",
       "<table border=\"1\" class=\"dataframe\">\n",
       "  <thead>\n",
       "    <tr style=\"text-align: right;\">\n",
       "      <th></th>\n",
       "      <th>Survived</th>\n",
       "      <th>Pclass</th>\n",
       "      <th>Sex</th>\n",
       "      <th>Age</th>\n",
       "      <th>SibSp</th>\n",
       "      <th>Parch</th>\n",
       "      <th>Fare</th>\n",
       "      <th>Embarked</th>\n",
       "      <th>Title</th>\n",
       "    </tr>\n",
       "  </thead>\n",
       "  <tbody>\n",
       "    <tr>\n",
       "      <th>0</th>\n",
       "      <td>0</td>\n",
       "      <td>3</td>\n",
       "      <td>0</td>\n",
       "      <td>22.0</td>\n",
       "      <td>1</td>\n",
       "      <td>0</td>\n",
       "      <td>7.250</td>\n",
       "      <td>S</td>\n",
       "      <td>2</td>\n",
       "    </tr>\n",
       "    <tr>\n",
       "      <th>1</th>\n",
       "      <td>1</td>\n",
       "      <td>1</td>\n",
       "      <td>1</td>\n",
       "      <td>38.0</td>\n",
       "      <td>1</td>\n",
       "      <td>0</td>\n",
       "      <td>66.000</td>\n",
       "      <td>C</td>\n",
       "      <td>1</td>\n",
       "    </tr>\n",
       "    <tr>\n",
       "      <th>2</th>\n",
       "      <td>1</td>\n",
       "      <td>3</td>\n",
       "      <td>1</td>\n",
       "      <td>26.0</td>\n",
       "      <td>0</td>\n",
       "      <td>0</td>\n",
       "      <td>7.925</td>\n",
       "      <td>S</td>\n",
       "      <td>3</td>\n",
       "    </tr>\n",
       "    <tr>\n",
       "      <th>3</th>\n",
       "      <td>1</td>\n",
       "      <td>1</td>\n",
       "      <td>1</td>\n",
       "      <td>35.0</td>\n",
       "      <td>1</td>\n",
       "      <td>0</td>\n",
       "      <td>53.100</td>\n",
       "      <td>S</td>\n",
       "      <td>1</td>\n",
       "    </tr>\n",
       "    <tr>\n",
       "      <th>4</th>\n",
       "      <td>0</td>\n",
       "      <td>3</td>\n",
       "      <td>0</td>\n",
       "      <td>35.0</td>\n",
       "      <td>0</td>\n",
       "      <td>0</td>\n",
       "      <td>8.050</td>\n",
       "      <td>S</td>\n",
       "      <td>2</td>\n",
       "    </tr>\n",
       "  </tbody>\n",
       "</table>\n",
       "</div>"
      ],
      "text/plain": [
       "   Survived  Pclass  Sex   Age  SibSp  Parch    Fare Embarked  Title\n",
       "0         0       3    0  22.0      1      0   7.250        S      2\n",
       "1         1       1    1  38.0      1      0  66.000        C      1\n",
       "2         1       3    1  26.0      0      0   7.925        S      3\n",
       "3         1       1    1  35.0      1      0  53.100        S      1\n",
       "4         0       3    0  35.0      0      0   8.050        S      2"
      ]
     },
     "execution_count": 37,
     "metadata": {},
     "output_type": "execute_result"
    }
   ],
   "source": [
    "for i in concat:\n",
    "    i['Sex'] = i['Sex'].replace({'male':0,'female':1})\n",
    "df_train.head()"
   ]
  },
  {
   "cell_type": "code",
   "execution_count": 38,
   "id": "2df1ed2d",
   "metadata": {
    "execution": {
     "iopub.execute_input": "2022-01-10T06:32:21.973140Z",
     "iopub.status.busy": "2022-01-10T06:32:21.972090Z",
     "iopub.status.idle": "2022-01-10T06:32:21.989064Z",
     "shell.execute_reply": "2022-01-10T06:32:21.989586Z",
     "shell.execute_reply.started": "2022-01-10T06:22:11.922319Z"
    },
    "papermill": {
     "duration": 0.09579,
     "end_time": "2022-01-10T06:32:21.989760",
     "exception": false,
     "start_time": "2022-01-10T06:32:21.893970",
     "status": "completed"
    },
    "tags": []
   },
   "outputs": [
    {
     "data": {
      "text/html": [
       "<div>\n",
       "<style scoped>\n",
       "    .dataframe tbody tr th:only-of-type {\n",
       "        vertical-align: middle;\n",
       "    }\n",
       "\n",
       "    .dataframe tbody tr th {\n",
       "        vertical-align: top;\n",
       "    }\n",
       "\n",
       "    .dataframe thead th {\n",
       "        text-align: right;\n",
       "    }\n",
       "</style>\n",
       "<table border=\"1\" class=\"dataframe\">\n",
       "  <thead>\n",
       "    <tr style=\"text-align: right;\">\n",
       "      <th></th>\n",
       "      <th>FamilySize</th>\n",
       "      <th>Survived</th>\n",
       "    </tr>\n",
       "  </thead>\n",
       "  <tbody>\n",
       "    <tr>\n",
       "      <th>3</th>\n",
       "      <td>4</td>\n",
       "      <td>0.724138</td>\n",
       "    </tr>\n",
       "    <tr>\n",
       "      <th>2</th>\n",
       "      <td>3</td>\n",
       "      <td>0.578431</td>\n",
       "    </tr>\n",
       "    <tr>\n",
       "      <th>1</th>\n",
       "      <td>2</td>\n",
       "      <td>0.552795</td>\n",
       "    </tr>\n",
       "    <tr>\n",
       "      <th>6</th>\n",
       "      <td>7</td>\n",
       "      <td>0.333333</td>\n",
       "    </tr>\n",
       "    <tr>\n",
       "      <th>0</th>\n",
       "      <td>1</td>\n",
       "      <td>0.303538</td>\n",
       "    </tr>\n",
       "    <tr>\n",
       "      <th>4</th>\n",
       "      <td>5</td>\n",
       "      <td>0.200000</td>\n",
       "    </tr>\n",
       "    <tr>\n",
       "      <th>5</th>\n",
       "      <td>6</td>\n",
       "      <td>0.136364</td>\n",
       "    </tr>\n",
       "    <tr>\n",
       "      <th>7</th>\n",
       "      <td>8</td>\n",
       "      <td>0.000000</td>\n",
       "    </tr>\n",
       "    <tr>\n",
       "      <th>8</th>\n",
       "      <td>11</td>\n",
       "      <td>0.000000</td>\n",
       "    </tr>\n",
       "  </tbody>\n",
       "</table>\n",
       "</div>"
      ],
      "text/plain": [
       "   FamilySize  Survived\n",
       "3           4  0.724138\n",
       "2           3  0.578431\n",
       "1           2  0.552795\n",
       "6           7  0.333333\n",
       "0           1  0.303538\n",
       "4           5  0.200000\n",
       "5           6  0.136364\n",
       "7           8  0.000000\n",
       "8          11  0.000000"
      ]
     },
     "execution_count": 38,
     "metadata": {},
     "output_type": "execute_result"
    }
   ],
   "source": [
    "for i in concat:\n",
    "    i['FamilySize'] = i['SibSp'] + i['Parch'] + 1\n",
    "\n",
    "df_train[['FamilySize', 'Survived']].groupby(['FamilySize'], as_index=False).mean().sort_values(by='Survived', ascending=False)"
   ]
  },
  {
   "cell_type": "code",
   "execution_count": 39,
   "id": "9c22f99b",
   "metadata": {
    "execution": {
     "iopub.execute_input": "2022-01-10T06:32:22.143492Z",
     "iopub.status.busy": "2022-01-10T06:32:22.142393Z",
     "iopub.status.idle": "2022-01-10T06:32:22.157643Z",
     "shell.execute_reply": "2022-01-10T06:32:22.158218Z",
     "shell.execute_reply.started": "2022-01-10T06:22:11.943703Z"
    },
    "papermill": {
     "duration": 0.094445,
     "end_time": "2022-01-10T06:32:22.158394",
     "exception": false,
     "start_time": "2022-01-10T06:32:22.063949",
     "status": "completed"
    },
    "tags": []
   },
   "outputs": [
    {
     "data": {
      "text/html": [
       "<div>\n",
       "<style scoped>\n",
       "    .dataframe tbody tr th:only-of-type {\n",
       "        vertical-align: middle;\n",
       "    }\n",
       "\n",
       "    .dataframe tbody tr th {\n",
       "        vertical-align: top;\n",
       "    }\n",
       "\n",
       "    .dataframe thead th {\n",
       "        text-align: right;\n",
       "    }\n",
       "</style>\n",
       "<table border=\"1\" class=\"dataframe\">\n",
       "  <thead>\n",
       "    <tr style=\"text-align: right;\">\n",
       "      <th></th>\n",
       "      <th>Alone</th>\n",
       "      <th>Survived</th>\n",
       "    </tr>\n",
       "  </thead>\n",
       "  <tbody>\n",
       "    <tr>\n",
       "      <th>0</th>\n",
       "      <td>0</td>\n",
       "      <td>0.505650</td>\n",
       "    </tr>\n",
       "    <tr>\n",
       "      <th>1</th>\n",
       "      <td>1</td>\n",
       "      <td>0.303538</td>\n",
       "    </tr>\n",
       "  </tbody>\n",
       "</table>\n",
       "</div>"
      ],
      "text/plain": [
       "   Alone  Survived\n",
       "0      0  0.505650\n",
       "1      1  0.303538"
      ]
     },
     "execution_count": 39,
     "metadata": {},
     "output_type": "execute_result"
    }
   ],
   "source": [
    "for i in concat:\n",
    "    i['Alone'] = 0\n",
    "    i.loc[i['FamilySize'] == 1, 'Alone']=1\n",
    "df_train.groupby(['Alone'],as_index=False)['Survived'].mean()"
   ]
  },
  {
   "cell_type": "code",
   "execution_count": 40,
   "id": "71f344d9",
   "metadata": {
    "execution": {
     "iopub.execute_input": "2022-01-10T06:32:22.312814Z",
     "iopub.status.busy": "2022-01-10T06:32:22.311758Z",
     "iopub.status.idle": "2022-01-10T06:32:22.318661Z",
     "shell.execute_reply": "2022-01-10T06:32:22.319153Z",
     "shell.execute_reply.started": "2022-01-10T06:22:11.965452Z"
    },
    "papermill": {
     "duration": 0.085868,
     "end_time": "2022-01-10T06:32:22.319346",
     "exception": false,
     "start_time": "2022-01-10T06:32:22.233478",
     "status": "completed"
    },
    "tags": []
   },
   "outputs": [],
   "source": [
    "df_train = df_train.drop(['Parch', 'SibSp', 'FamilySize'], axis=1)\n",
    "df_test = df_test.drop(['Parch', 'SibSp', 'FamilySize'], axis=1)\n",
    "concat = [df_train, df_test]"
   ]
  },
  {
   "cell_type": "code",
   "execution_count": 41,
   "id": "9f9c31a1",
   "metadata": {
    "execution": {
     "iopub.execute_input": "2022-01-10T06:32:22.473372Z",
     "iopub.status.busy": "2022-01-10T06:32:22.472332Z",
     "iopub.status.idle": "2022-01-10T06:32:22.485370Z",
     "shell.execute_reply": "2022-01-10T06:32:22.485936Z",
     "shell.execute_reply.started": "2022-01-10T06:22:11.976615Z"
    },
    "papermill": {
     "duration": 0.092392,
     "end_time": "2022-01-10T06:32:22.486112",
     "exception": false,
     "start_time": "2022-01-10T06:32:22.393720",
     "status": "completed"
    },
    "tags": []
   },
   "outputs": [
    {
     "data": {
      "text/html": [
       "<div>\n",
       "<style scoped>\n",
       "    .dataframe tbody tr th:only-of-type {\n",
       "        vertical-align: middle;\n",
       "    }\n",
       "\n",
       "    .dataframe tbody tr th {\n",
       "        vertical-align: top;\n",
       "    }\n",
       "\n",
       "    .dataframe thead th {\n",
       "        text-align: right;\n",
       "    }\n",
       "</style>\n",
       "<table border=\"1\" class=\"dataframe\">\n",
       "  <thead>\n",
       "    <tr style=\"text-align: right;\">\n",
       "      <th></th>\n",
       "      <th>Survived</th>\n",
       "      <th>Pclass</th>\n",
       "      <th>Sex</th>\n",
       "      <th>Age</th>\n",
       "      <th>Fare</th>\n",
       "      <th>Embarked</th>\n",
       "      <th>Title</th>\n",
       "      <th>Alone</th>\n",
       "    </tr>\n",
       "  </thead>\n",
       "  <tbody>\n",
       "    <tr>\n",
       "      <th>0</th>\n",
       "      <td>0</td>\n",
       "      <td>3</td>\n",
       "      <td>0</td>\n",
       "      <td>22.0</td>\n",
       "      <td>7.250</td>\n",
       "      <td>S</td>\n",
       "      <td>2</td>\n",
       "      <td>0</td>\n",
       "    </tr>\n",
       "    <tr>\n",
       "      <th>1</th>\n",
       "      <td>1</td>\n",
       "      <td>1</td>\n",
       "      <td>1</td>\n",
       "      <td>38.0</td>\n",
       "      <td>66.000</td>\n",
       "      <td>C</td>\n",
       "      <td>1</td>\n",
       "      <td>0</td>\n",
       "    </tr>\n",
       "    <tr>\n",
       "      <th>2</th>\n",
       "      <td>1</td>\n",
       "      <td>3</td>\n",
       "      <td>1</td>\n",
       "      <td>26.0</td>\n",
       "      <td>7.925</td>\n",
       "      <td>S</td>\n",
       "      <td>3</td>\n",
       "      <td>1</td>\n",
       "    </tr>\n",
       "    <tr>\n",
       "      <th>3</th>\n",
       "      <td>1</td>\n",
       "      <td>1</td>\n",
       "      <td>1</td>\n",
       "      <td>35.0</td>\n",
       "      <td>53.100</td>\n",
       "      <td>S</td>\n",
       "      <td>1</td>\n",
       "      <td>0</td>\n",
       "    </tr>\n",
       "    <tr>\n",
       "      <th>4</th>\n",
       "      <td>0</td>\n",
       "      <td>3</td>\n",
       "      <td>0</td>\n",
       "      <td>35.0</td>\n",
       "      <td>8.050</td>\n",
       "      <td>S</td>\n",
       "      <td>2</td>\n",
       "      <td>1</td>\n",
       "    </tr>\n",
       "  </tbody>\n",
       "</table>\n",
       "</div>"
      ],
      "text/plain": [
       "   Survived  Pclass  Sex   Age    Fare Embarked  Title  Alone\n",
       "0         0       3    0  22.0   7.250        S      2      0\n",
       "1         1       1    1  38.0  66.000        C      1      0\n",
       "2         1       3    1  26.0   7.925        S      3      1\n",
       "3         1       1    1  35.0  53.100        S      1      0\n",
       "4         0       3    0  35.0   8.050        S      2      1"
      ]
     },
     "execution_count": 41,
     "metadata": {},
     "output_type": "execute_result"
    }
   ],
   "source": [
    "df_train.head()"
   ]
  },
  {
   "cell_type": "code",
   "execution_count": 42,
   "id": "3b40c8c8",
   "metadata": {
    "execution": {
     "iopub.execute_input": "2022-01-10T06:32:22.640562Z",
     "iopub.status.busy": "2022-01-10T06:32:22.639871Z",
     "iopub.status.idle": "2022-01-10T06:32:22.647560Z",
     "shell.execute_reply": "2022-01-10T06:32:22.648201Z",
     "shell.execute_reply.started": "2022-01-10T06:22:12.000874Z"
    },
    "papermill": {
     "duration": 0.087477,
     "end_time": "2022-01-10T06:32:22.648384",
     "exception": false,
     "start_time": "2022-01-10T06:32:22.560907",
     "status": "completed"
    },
    "tags": []
   },
   "outputs": [
    {
     "data": {
      "text/plain": [
       "S    644\n",
       "C    168\n",
       "Q     77\n",
       "Name: Embarked, dtype: int64"
      ]
     },
     "execution_count": 42,
     "metadata": {},
     "output_type": "execute_result"
    }
   ],
   "source": [
    "df_train.Embarked.value_counts()"
   ]
  },
  {
   "cell_type": "code",
   "execution_count": 43,
   "id": "e7cd5022",
   "metadata": {
    "execution": {
     "iopub.execute_input": "2022-01-10T06:32:22.802598Z",
     "iopub.status.busy": "2022-01-10T06:32:22.801938Z",
     "iopub.status.idle": "2022-01-10T06:32:22.814281Z",
     "shell.execute_reply": "2022-01-10T06:32:22.814874Z",
     "shell.execute_reply.started": "2022-01-10T06:22:12.015426Z"
    },
    "papermill": {
     "duration": 0.090278,
     "end_time": "2022-01-10T06:32:22.815050",
     "exception": false,
     "start_time": "2022-01-10T06:32:22.724772",
     "status": "completed"
    },
    "tags": []
   },
   "outputs": [
    {
     "data": {
      "text/html": [
       "<div>\n",
       "<style scoped>\n",
       "    .dataframe tbody tr th:only-of-type {\n",
       "        vertical-align: middle;\n",
       "    }\n",
       "\n",
       "    .dataframe tbody tr th {\n",
       "        vertical-align: top;\n",
       "    }\n",
       "\n",
       "    .dataframe thead th {\n",
       "        text-align: right;\n",
       "    }\n",
       "</style>\n",
       "<table border=\"1\" class=\"dataframe\">\n",
       "  <thead>\n",
       "    <tr style=\"text-align: right;\">\n",
       "      <th></th>\n",
       "      <th>Embarked</th>\n",
       "      <th>Survived</th>\n",
       "    </tr>\n",
       "  </thead>\n",
       "  <tbody>\n",
       "    <tr>\n",
       "      <th>0</th>\n",
       "      <td>C</td>\n",
       "      <td>0.553571</td>\n",
       "    </tr>\n",
       "    <tr>\n",
       "      <th>1</th>\n",
       "      <td>Q</td>\n",
       "      <td>0.389610</td>\n",
       "    </tr>\n",
       "    <tr>\n",
       "      <th>2</th>\n",
       "      <td>S</td>\n",
       "      <td>0.339009</td>\n",
       "    </tr>\n",
       "  </tbody>\n",
       "</table>\n",
       "</div>"
      ],
      "text/plain": [
       "  Embarked  Survived\n",
       "0        C  0.553571\n",
       "1        Q  0.389610\n",
       "2        S  0.339009"
      ]
     },
     "execution_count": 43,
     "metadata": {},
     "output_type": "execute_result"
    }
   ],
   "source": [
    "for i in concat:\n",
    "    i['Embarked'] = i['Embarked'].fillna('S')\n",
    "df_train.groupby(['Embarked'],as_index=False)['Survived'].mean()"
   ]
  },
  {
   "cell_type": "code",
   "execution_count": 44,
   "id": "5ccf0b38",
   "metadata": {
    "execution": {
     "iopub.execute_input": "2022-01-10T06:32:22.971701Z",
     "iopub.status.busy": "2022-01-10T06:32:22.970731Z",
     "iopub.status.idle": "2022-01-10T06:32:22.986716Z",
     "shell.execute_reply": "2022-01-10T06:32:22.987202Z",
     "shell.execute_reply.started": "2022-01-10T06:22:12.037599Z"
    },
    "papermill": {
     "duration": 0.095387,
     "end_time": "2022-01-10T06:32:22.987388",
     "exception": false,
     "start_time": "2022-01-10T06:32:22.892001",
     "status": "completed"
    },
    "tags": []
   },
   "outputs": [
    {
     "data": {
      "text/html": [
       "<div>\n",
       "<style scoped>\n",
       "    .dataframe tbody tr th:only-of-type {\n",
       "        vertical-align: middle;\n",
       "    }\n",
       "\n",
       "    .dataframe tbody tr th {\n",
       "        vertical-align: top;\n",
       "    }\n",
       "\n",
       "    .dataframe thead th {\n",
       "        text-align: right;\n",
       "    }\n",
       "</style>\n",
       "<table border=\"1\" class=\"dataframe\">\n",
       "  <thead>\n",
       "    <tr style=\"text-align: right;\">\n",
       "      <th></th>\n",
       "      <th>Survived</th>\n",
       "      <th>Pclass</th>\n",
       "      <th>Sex</th>\n",
       "      <th>Age</th>\n",
       "      <th>Fare</th>\n",
       "      <th>Embarked</th>\n",
       "      <th>Title</th>\n",
       "      <th>Alone</th>\n",
       "    </tr>\n",
       "  </thead>\n",
       "  <tbody>\n",
       "    <tr>\n",
       "      <th>0</th>\n",
       "      <td>0</td>\n",
       "      <td>3</td>\n",
       "      <td>0</td>\n",
       "      <td>22.0</td>\n",
       "      <td>7.250</td>\n",
       "      <td>1</td>\n",
       "      <td>2</td>\n",
       "      <td>0</td>\n",
       "    </tr>\n",
       "    <tr>\n",
       "      <th>1</th>\n",
       "      <td>1</td>\n",
       "      <td>1</td>\n",
       "      <td>1</td>\n",
       "      <td>38.0</td>\n",
       "      <td>66.000</td>\n",
       "      <td>2</td>\n",
       "      <td>1</td>\n",
       "      <td>0</td>\n",
       "    </tr>\n",
       "    <tr>\n",
       "      <th>2</th>\n",
       "      <td>1</td>\n",
       "      <td>3</td>\n",
       "      <td>1</td>\n",
       "      <td>26.0</td>\n",
       "      <td>7.925</td>\n",
       "      <td>1</td>\n",
       "      <td>3</td>\n",
       "      <td>1</td>\n",
       "    </tr>\n",
       "    <tr>\n",
       "      <th>3</th>\n",
       "      <td>1</td>\n",
       "      <td>1</td>\n",
       "      <td>1</td>\n",
       "      <td>35.0</td>\n",
       "      <td>53.100</td>\n",
       "      <td>1</td>\n",
       "      <td>1</td>\n",
       "      <td>0</td>\n",
       "    </tr>\n",
       "    <tr>\n",
       "      <th>4</th>\n",
       "      <td>0</td>\n",
       "      <td>3</td>\n",
       "      <td>0</td>\n",
       "      <td>35.0</td>\n",
       "      <td>8.050</td>\n",
       "      <td>1</td>\n",
       "      <td>2</td>\n",
       "      <td>1</td>\n",
       "    </tr>\n",
       "  </tbody>\n",
       "</table>\n",
       "</div>"
      ],
      "text/plain": [
       "   Survived  Pclass  Sex   Age    Fare  Embarked  Title  Alone\n",
       "0         0       3    0  22.0   7.250         1      2      0\n",
       "1         1       1    1  38.0  66.000         2      1      0\n",
       "2         1       3    1  26.0   7.925         1      3      1\n",
       "3         1       1    1  35.0  53.100         1      1      0\n",
       "4         0       3    0  35.0   8.050         1      2      1"
      ]
     },
     "execution_count": 44,
     "metadata": {},
     "output_type": "execute_result"
    }
   ],
   "source": [
    "for i in concat:\n",
    "    i['Embarked'] = i['Embarked'].replace({'S':1,'C':2,'Q':3})\n",
    "df_train.head()"
   ]
  },
  {
   "cell_type": "markdown",
   "id": "17fe806c",
   "metadata": {
    "papermill": {
     "duration": 0.076772,
     "end_time": "2022-01-10T06:32:23.140095",
     "exception": false,
     "start_time": "2022-01-10T06:32:23.063323",
     "status": "completed"
    },
    "tags": []
   },
   "source": [
    "## Handle Test Data"
   ]
  },
  {
   "cell_type": "code",
   "execution_count": 45,
   "id": "7f0be18f",
   "metadata": {
    "execution": {
     "iopub.execute_input": "2022-01-10T06:32:23.296782Z",
     "iopub.status.busy": "2022-01-10T06:32:23.295880Z",
     "iopub.status.idle": "2022-01-10T06:32:23.304569Z",
     "shell.execute_reply": "2022-01-10T06:32:23.303988Z",
     "shell.execute_reply.started": "2022-01-10T06:22:12.060299Z"
    },
    "papermill": {
     "duration": 0.088021,
     "end_time": "2022-01-10T06:32:23.304715",
     "exception": false,
     "start_time": "2022-01-10T06:32:23.216694",
     "status": "completed"
    },
    "tags": []
   },
   "outputs": [
    {
     "data": {
      "text/plain": [
       "Pclass       0\n",
       "Name         0\n",
       "Sex          0\n",
       "Age         86\n",
       "Fare         1\n",
       "Embarked     0\n",
       "Title        1\n",
       "Alone        0\n",
       "dtype: int64"
      ]
     },
     "execution_count": 45,
     "metadata": {},
     "output_type": "execute_result"
    }
   ],
   "source": [
    "df_test.isna().sum()"
   ]
  },
  {
   "cell_type": "code",
   "execution_count": 46,
   "id": "18b1c546",
   "metadata": {
    "execution": {
     "iopub.execute_input": "2022-01-10T06:32:23.462465Z",
     "iopub.status.busy": "2022-01-10T06:32:23.461428Z",
     "iopub.status.idle": "2022-01-10T06:32:23.476469Z",
     "shell.execute_reply": "2022-01-10T06:32:23.477074Z",
     "shell.execute_reply.started": "2022-01-10T06:22:12.074111Z"
    },
    "papermill": {
     "duration": 0.097428,
     "end_time": "2022-01-10T06:32:23.477363",
     "exception": false,
     "start_time": "2022-01-10T06:32:23.379935",
     "status": "completed"
    },
    "tags": []
   },
   "outputs": [],
   "source": [
    "df_test['age'] = df_test.groupby(['Sex','Pclass'],as_index=False)['Age'].transform('mean').round()"
   ]
  },
  {
   "cell_type": "code",
   "execution_count": 47,
   "id": "037ce6a6",
   "metadata": {
    "execution": {
     "iopub.execute_input": "2022-01-10T06:32:23.634295Z",
     "iopub.status.busy": "2022-01-10T06:32:23.633636Z",
     "iopub.status.idle": "2022-01-10T06:32:23.635285Z",
     "shell.execute_reply": "2022-01-10T06:32:23.635745Z",
     "shell.execute_reply.started": "2022-01-10T06:22:12.102325Z"
    },
    "papermill": {
     "duration": 0.082231,
     "end_time": "2022-01-10T06:32:23.635915",
     "exception": false,
     "start_time": "2022-01-10T06:32:23.553684",
     "status": "completed"
    },
    "tags": []
   },
   "outputs": [],
   "source": [
    "df_test.Age.fillna(df_test['age'],inplace=True)"
   ]
  },
  {
   "cell_type": "code",
   "execution_count": 48,
   "id": "2da3211f",
   "metadata": {
    "execution": {
     "iopub.execute_input": "2022-01-10T06:32:23.790383Z",
     "iopub.status.busy": "2022-01-10T06:32:23.789444Z",
     "iopub.status.idle": "2022-01-10T06:32:23.792073Z",
     "shell.execute_reply": "2022-01-10T06:32:23.791497Z",
     "shell.execute_reply.started": "2022-01-10T06:22:12.110994Z"
    },
    "papermill": {
     "duration": 0.081974,
     "end_time": "2022-01-10T06:32:23.792241",
     "exception": false,
     "start_time": "2022-01-10T06:32:23.710267",
     "status": "completed"
    },
    "tags": []
   },
   "outputs": [],
   "source": [
    "df_test.drop(['Name','age'],axis=1,inplace=True)"
   ]
  },
  {
   "cell_type": "code",
   "execution_count": 49,
   "id": "cbc40eb5",
   "metadata": {
    "execution": {
     "iopub.execute_input": "2022-01-10T06:32:23.942403Z",
     "iopub.status.busy": "2022-01-10T06:32:23.941424Z",
     "iopub.status.idle": "2022-01-10T06:32:23.958797Z",
     "shell.execute_reply": "2022-01-10T06:32:23.959326Z",
     "shell.execute_reply.started": "2022-01-10T06:22:12.123630Z"
    },
    "papermill": {
     "duration": 0.094766,
     "end_time": "2022-01-10T06:32:23.959516",
     "exception": false,
     "start_time": "2022-01-10T06:32:23.864750",
     "status": "completed"
    },
    "tags": []
   },
   "outputs": [
    {
     "data": {
      "text/html": [
       "<div>\n",
       "<style scoped>\n",
       "    .dataframe tbody tr th:only-of-type {\n",
       "        vertical-align: middle;\n",
       "    }\n",
       "\n",
       "    .dataframe tbody tr th {\n",
       "        vertical-align: top;\n",
       "    }\n",
       "\n",
       "    .dataframe thead th {\n",
       "        text-align: right;\n",
       "    }\n",
       "</style>\n",
       "<table border=\"1\" class=\"dataframe\">\n",
       "  <thead>\n",
       "    <tr style=\"text-align: right;\">\n",
       "      <th></th>\n",
       "      <th>Pclass</th>\n",
       "      <th>Sex</th>\n",
       "      <th>Age</th>\n",
       "      <th>Fare</th>\n",
       "      <th>Embarked</th>\n",
       "      <th>Title</th>\n",
       "      <th>Alone</th>\n",
       "    </tr>\n",
       "  </thead>\n",
       "  <tbody>\n",
       "    <tr>\n",
       "      <th>0</th>\n",
       "      <td>3</td>\n",
       "      <td>0</td>\n",
       "      <td>34.5</td>\n",
       "      <td>7.8292</td>\n",
       "      <td>3</td>\n",
       "      <td>2.0</td>\n",
       "      <td>1</td>\n",
       "    </tr>\n",
       "    <tr>\n",
       "      <th>1</th>\n",
       "      <td>3</td>\n",
       "      <td>1</td>\n",
       "      <td>47.0</td>\n",
       "      <td>7.0000</td>\n",
       "      <td>1</td>\n",
       "      <td>1.0</td>\n",
       "      <td>0</td>\n",
       "    </tr>\n",
       "    <tr>\n",
       "      <th>2</th>\n",
       "      <td>2</td>\n",
       "      <td>0</td>\n",
       "      <td>62.0</td>\n",
       "      <td>9.6875</td>\n",
       "      <td>3</td>\n",
       "      <td>2.0</td>\n",
       "      <td>1</td>\n",
       "    </tr>\n",
       "    <tr>\n",
       "      <th>3</th>\n",
       "      <td>3</td>\n",
       "      <td>0</td>\n",
       "      <td>27.0</td>\n",
       "      <td>8.6625</td>\n",
       "      <td>1</td>\n",
       "      <td>2.0</td>\n",
       "      <td>1</td>\n",
       "    </tr>\n",
       "    <tr>\n",
       "      <th>4</th>\n",
       "      <td>3</td>\n",
       "      <td>1</td>\n",
       "      <td>22.0</td>\n",
       "      <td>12.2875</td>\n",
       "      <td>1</td>\n",
       "      <td>1.0</td>\n",
       "      <td>0</td>\n",
       "    </tr>\n",
       "    <tr>\n",
       "      <th>...</th>\n",
       "      <td>...</td>\n",
       "      <td>...</td>\n",
       "      <td>...</td>\n",
       "      <td>...</td>\n",
       "      <td>...</td>\n",
       "      <td>...</td>\n",
       "      <td>...</td>\n",
       "    </tr>\n",
       "    <tr>\n",
       "      <th>413</th>\n",
       "      <td>3</td>\n",
       "      <td>0</td>\n",
       "      <td>25.0</td>\n",
       "      <td>8.0500</td>\n",
       "      <td>1</td>\n",
       "      <td>2.0</td>\n",
       "      <td>1</td>\n",
       "    </tr>\n",
       "    <tr>\n",
       "      <th>414</th>\n",
       "      <td>1</td>\n",
       "      <td>1</td>\n",
       "      <td>39.0</td>\n",
       "      <td>108.9000</td>\n",
       "      <td>2</td>\n",
       "      <td>NaN</td>\n",
       "      <td>1</td>\n",
       "    </tr>\n",
       "    <tr>\n",
       "      <th>415</th>\n",
       "      <td>3</td>\n",
       "      <td>0</td>\n",
       "      <td>38.5</td>\n",
       "      <td>7.2500</td>\n",
       "      <td>1</td>\n",
       "      <td>2.0</td>\n",
       "      <td>1</td>\n",
       "    </tr>\n",
       "    <tr>\n",
       "      <th>416</th>\n",
       "      <td>3</td>\n",
       "      <td>0</td>\n",
       "      <td>25.0</td>\n",
       "      <td>8.0500</td>\n",
       "      <td>1</td>\n",
       "      <td>2.0</td>\n",
       "      <td>1</td>\n",
       "    </tr>\n",
       "    <tr>\n",
       "      <th>417</th>\n",
       "      <td>3</td>\n",
       "      <td>0</td>\n",
       "      <td>25.0</td>\n",
       "      <td>22.3583</td>\n",
       "      <td>2</td>\n",
       "      <td>4.0</td>\n",
       "      <td>0</td>\n",
       "    </tr>\n",
       "  </tbody>\n",
       "</table>\n",
       "<p>418 rows × 7 columns</p>\n",
       "</div>"
      ],
      "text/plain": [
       "     Pclass  Sex   Age      Fare  Embarked  Title  Alone\n",
       "0         3    0  34.5    7.8292         3    2.0      1\n",
       "1         3    1  47.0    7.0000         1    1.0      0\n",
       "2         2    0  62.0    9.6875         3    2.0      1\n",
       "3         3    0  27.0    8.6625         1    2.0      1\n",
       "4         3    1  22.0   12.2875         1    1.0      0\n",
       "..      ...  ...   ...       ...       ...    ...    ...\n",
       "413       3    0  25.0    8.0500         1    2.0      1\n",
       "414       1    1  39.0  108.9000         2    NaN      1\n",
       "415       3    0  38.5    7.2500         1    2.0      1\n",
       "416       3    0  25.0    8.0500         1    2.0      1\n",
       "417       3    0  25.0   22.3583         2    4.0      0\n",
       "\n",
       "[418 rows x 7 columns]"
      ]
     },
     "execution_count": 49,
     "metadata": {},
     "output_type": "execute_result"
    }
   ],
   "source": [
    "df_test"
   ]
  },
  {
   "cell_type": "code",
   "execution_count": 50,
   "id": "2add3ed9",
   "metadata": {
    "execution": {
     "iopub.execute_input": "2022-01-10T06:32:24.115745Z",
     "iopub.status.busy": "2022-01-10T06:32:24.114875Z",
     "iopub.status.idle": "2022-01-10T06:32:24.117038Z",
     "shell.execute_reply": "2022-01-10T06:32:24.117481Z",
     "shell.execute_reply.started": "2022-01-10T06:22:12.148516Z"
    },
    "papermill": {
     "duration": 0.082726,
     "end_time": "2022-01-10T06:32:24.117647",
     "exception": false,
     "start_time": "2022-01-10T06:32:24.034921",
     "status": "completed"
    },
    "tags": []
   },
   "outputs": [],
   "source": [
    "df_test.Fare.fillna(df_test['Fare'].mean(),inplace=True)"
   ]
  },
  {
   "cell_type": "code",
   "execution_count": 51,
   "id": "a5192e98",
   "metadata": {
    "execution": {
     "iopub.execute_input": "2022-01-10T06:32:24.274317Z",
     "iopub.status.busy": "2022-01-10T06:32:24.272103Z",
     "iopub.status.idle": "2022-01-10T06:32:24.275052Z",
     "shell.execute_reply": "2022-01-10T06:32:24.275566Z",
     "shell.execute_reply.started": "2022-01-10T06:22:12.160178Z"
    },
    "papermill": {
     "duration": 0.084495,
     "end_time": "2022-01-10T06:32:24.275815",
     "exception": false,
     "start_time": "2022-01-10T06:32:24.191320",
     "status": "completed"
    },
    "tags": []
   },
   "outputs": [],
   "source": [
    "df_test.Title.fillna(df_test['Title'].mean(),inplace=True)"
   ]
  },
  {
   "cell_type": "markdown",
   "id": "30f48664",
   "metadata": {
    "papermill": {
     "duration": 0.077567,
     "end_time": "2022-01-10T06:32:24.432084",
     "exception": false,
     "start_time": "2022-01-10T06:32:24.354517",
     "status": "completed"
    },
    "tags": []
   },
   "source": [
    "# Build Model"
   ]
  },
  {
   "cell_type": "code",
   "execution_count": 52,
   "id": "4788c630",
   "metadata": {
    "execution": {
     "iopub.execute_input": "2022-01-10T06:32:24.591583Z",
     "iopub.status.busy": "2022-01-10T06:32:24.590534Z",
     "iopub.status.idle": "2022-01-10T06:32:24.595978Z",
     "shell.execute_reply": "2022-01-10T06:32:24.596577Z",
     "shell.execute_reply.started": "2022-01-10T06:22:12.171790Z"
    },
    "papermill": {
     "duration": 0.088047,
     "end_time": "2022-01-10T06:32:24.596747",
     "exception": false,
     "start_time": "2022-01-10T06:32:24.508700",
     "status": "completed"
    },
    "tags": []
   },
   "outputs": [
    {
     "data": {
      "text/plain": [
       "((891, 7), (891,), (418, 7))"
      ]
     },
     "execution_count": 52,
     "metadata": {},
     "output_type": "execute_result"
    }
   ],
   "source": [
    "X_train = df_train.drop(\"Survived\", axis=1)\n",
    "Y_train = df_train[\"Survived\"]\n",
    "X_test  = df_test\n",
    "X_train.shape, Y_train.shape, X_test.shape"
   ]
  },
  {
   "cell_type": "code",
   "execution_count": 53,
   "id": "ddcbdf12",
   "metadata": {
    "execution": {
     "iopub.execute_input": "2022-01-10T06:32:24.754615Z",
     "iopub.status.busy": "2022-01-10T06:32:24.753604Z",
     "iopub.status.idle": "2022-01-10T06:32:25.036775Z",
     "shell.execute_reply": "2022-01-10T06:32:25.037277Z",
     "shell.execute_reply.started": "2022-01-10T06:22:12.185974Z"
    },
    "papermill": {
     "duration": 0.363684,
     "end_time": "2022-01-10T06:32:25.037446",
     "exception": false,
     "start_time": "2022-01-10T06:32:24.673762",
     "status": "completed"
    },
    "tags": []
   },
   "outputs": [
    {
     "data": {
      "text/plain": [
       "79.91"
      ]
     },
     "execution_count": 53,
     "metadata": {},
     "output_type": "execute_result"
    }
   ],
   "source": [
    "from sklearn.linear_model import LogisticRegression\n",
    "logreg = LogisticRegression()\n",
    "logreg.fit(X_train, Y_train)\n",
    "Y_pred = logreg.predict(X_test)\n",
    "acc_log = round(logreg.score(X_train, Y_train) * 100, 2)\n",
    "acc_log"
   ]
  },
  {
   "cell_type": "code",
   "execution_count": 54,
   "id": "0f83c6ca",
   "metadata": {
    "execution": {
     "iopub.execute_input": "2022-01-10T06:32:25.198261Z",
     "iopub.status.busy": "2022-01-10T06:32:25.197573Z",
     "iopub.status.idle": "2022-01-10T06:32:25.246494Z",
     "shell.execute_reply": "2022-01-10T06:32:25.245875Z",
     "shell.execute_reply.started": "2022-01-10T06:22:12.498112Z"
    },
    "papermill": {
     "duration": 0.129696,
     "end_time": "2022-01-10T06:32:25.246659",
     "exception": false,
     "start_time": "2022-01-10T06:32:25.116963",
     "status": "completed"
    },
    "tags": []
   },
   "outputs": [
    {
     "data": {
      "text/plain": [
       "69.25"
      ]
     },
     "execution_count": 54,
     "metadata": {},
     "output_type": "execute_result"
    }
   ],
   "source": [
    "from sklearn.svm import SVC\n",
    "svc = SVC()\n",
    "svc.fit(X_train, Y_train)\n",
    "Y_pred = svc.predict(X_test)\n",
    "acc_svc = round(svc.score(X_train, Y_train) * 100, 2)\n",
    "acc_svc"
   ]
  },
  {
   "cell_type": "code",
   "execution_count": 55,
   "id": "e0263f85",
   "metadata": {
    "execution": {
     "iopub.execute_input": "2022-01-10T06:32:25.413691Z",
     "iopub.status.busy": "2022-01-10T06:32:25.413004Z",
     "iopub.status.idle": "2022-01-10T06:32:25.536060Z",
     "shell.execute_reply": "2022-01-10T06:32:25.535526Z",
     "shell.execute_reply.started": "2022-01-10T06:22:12.553367Z"
    },
    "papermill": {
     "duration": 0.204332,
     "end_time": "2022-01-10T06:32:25.536207",
     "exception": false,
     "start_time": "2022-01-10T06:32:25.331875",
     "status": "completed"
    },
    "tags": []
   },
   "outputs": [
    {
     "data": {
      "text/plain": [
       "84.4"
      ]
     },
     "execution_count": 55,
     "metadata": {},
     "output_type": "execute_result"
    }
   ],
   "source": [
    "from sklearn.neighbors import KNeighborsClassifier\n",
    "knn = KNeighborsClassifier(n_neighbors = 3)\n",
    "knn.fit(X_train, Y_train)\n",
    "Y_pred = knn.predict(X_test)\n",
    "acc_knn = round(knn.score(X_train, Y_train) * 100, 2)\n",
    "acc_knn"
   ]
  },
  {
   "cell_type": "code",
   "execution_count": 56,
   "id": "e559a15b",
   "metadata": {
    "execution": {
     "iopub.execute_input": "2022-01-10T06:32:25.693296Z",
     "iopub.status.busy": "2022-01-10T06:32:25.692456Z",
     "iopub.status.idle": "2022-01-10T06:32:25.706513Z",
     "shell.execute_reply": "2022-01-10T06:32:25.705879Z",
     "shell.execute_reply.started": "2022-01-10T06:22:12.679339Z"
    },
    "papermill": {
     "duration": 0.094204,
     "end_time": "2022-01-10T06:32:25.706655",
     "exception": false,
     "start_time": "2022-01-10T06:32:25.612451",
     "status": "completed"
    },
    "tags": []
   },
   "outputs": [
    {
     "data": {
      "text/plain": [
       "75.98"
      ]
     },
     "execution_count": 56,
     "metadata": {},
     "output_type": "execute_result"
    }
   ],
   "source": [
    "from sklearn.naive_bayes import GaussianNB\n",
    "gaussian = GaussianNB()\n",
    "gaussian.fit(X_train, Y_train)\n",
    "Y_pred = gaussian.predict(X_test)\n",
    "acc_gaussian = round(gaussian.score(X_train, Y_train) * 100, 2)\n",
    "acc_gaussian"
   ]
  },
  {
   "cell_type": "code",
   "execution_count": 57,
   "id": "84f56e66",
   "metadata": {
    "execution": {
     "iopub.execute_input": "2022-01-10T06:32:25.866494Z",
     "iopub.status.busy": "2022-01-10T06:32:25.865774Z",
     "iopub.status.idle": "2022-01-10T06:32:25.882366Z",
     "shell.execute_reply": "2022-01-10T06:32:25.881888Z",
     "shell.execute_reply.started": "2022-01-10T06:22:12.700280Z"
    },
    "papermill": {
     "duration": 0.096809,
     "end_time": "2022-01-10T06:32:25.882521",
     "exception": false,
     "start_time": "2022-01-10T06:32:25.785712",
     "status": "completed"
    },
    "tags": []
   },
   "outputs": [
    {
     "data": {
      "text/plain": [
       "71.27"
      ]
     },
     "execution_count": 57,
     "metadata": {},
     "output_type": "execute_result"
    }
   ],
   "source": [
    "from sklearn.linear_model import SGDClassifier\n",
    "sgd = SGDClassifier()\n",
    "sgd.fit(X_train, Y_train)\n",
    "Y_pred = sgd.predict(X_test)\n",
    "acc_sgd = round(sgd.score(X_train, Y_train) * 100, 2)\n",
    "acc_sgd"
   ]
  },
  {
   "cell_type": "code",
   "execution_count": 58,
   "id": "c1b12da5",
   "metadata": {
    "execution": {
     "iopub.execute_input": "2022-01-10T06:32:26.042121Z",
     "iopub.status.busy": "2022-01-10T06:32:26.041496Z",
     "iopub.status.idle": "2022-01-10T06:32:26.081218Z",
     "shell.execute_reply": "2022-01-10T06:32:26.081737Z",
     "shell.execute_reply.started": "2022-01-10T06:22:12.724385Z"
    },
    "papermill": {
     "duration": 0.121634,
     "end_time": "2022-01-10T06:32:26.081944",
     "exception": false,
     "start_time": "2022-01-10T06:32:25.960310",
     "status": "completed"
    },
    "tags": []
   },
   "outputs": [
    {
     "data": {
      "text/plain": [
       "97.76"
      ]
     },
     "execution_count": 58,
     "metadata": {},
     "output_type": "execute_result"
    }
   ],
   "source": [
    "from sklearn.tree import DecisionTreeClassifier\n",
    "decision_tree = DecisionTreeClassifier()\n",
    "decision_tree.fit(X_train, Y_train)\n",
    "Y_pred = decision_tree.predict(X_test)\n",
    "acc_decision_tree = round(decision_tree.score(X_train, Y_train) * 100, 2)\n",
    "acc_decision_tree"
   ]
  },
  {
   "cell_type": "code",
   "execution_count": 59,
   "id": "81daebca",
   "metadata": {
    "execution": {
     "iopub.execute_input": "2022-01-10T06:32:26.242915Z",
     "iopub.status.busy": "2022-01-10T06:32:26.242284Z",
     "iopub.status.idle": "2022-01-10T06:32:26.567568Z",
     "shell.execute_reply": "2022-01-10T06:32:26.566938Z",
     "shell.execute_reply.started": "2022-01-10T06:22:12.770772Z"
    },
    "papermill": {
     "duration": 0.405117,
     "end_time": "2022-01-10T06:32:26.567731",
     "exception": false,
     "start_time": "2022-01-10T06:32:26.162614",
     "status": "completed"
    },
    "tags": []
   },
   "outputs": [
    {
     "data": {
      "text/plain": [
       "97.76"
      ]
     },
     "execution_count": 59,
     "metadata": {},
     "output_type": "execute_result"
    }
   ],
   "source": [
    "from sklearn.ensemble import RandomForestClassifier\n",
    "random_forest = RandomForestClassifier(n_estimators=100)\n",
    "random_forest.fit(X_train, Y_train)\n",
    "Y_pred = random_forest.predict(X_test)\n",
    "random_forest.score(X_train, Y_train)\n",
    "acc_random_forest = round(random_forest.score(X_train, Y_train) * 100, 2)\n",
    "acc_random_forest"
   ]
  },
  {
   "cell_type": "code",
   "execution_count": 60,
   "id": "b2944480",
   "metadata": {
    "execution": {
     "iopub.execute_input": "2022-01-10T06:32:26.734647Z",
     "iopub.status.busy": "2022-01-10T06:32:26.733966Z",
     "iopub.status.idle": "2022-01-10T06:32:26.780490Z",
     "shell.execute_reply": "2022-01-10T06:32:26.779769Z",
     "shell.execute_reply.started": "2022-01-10T06:22:13.107802Z"
    },
    "papermill": {
     "duration": 0.132735,
     "end_time": "2022-01-10T06:32:26.780647",
     "exception": false,
     "start_time": "2022-01-10T06:32:26.647912",
     "status": "completed"
    },
    "tags": []
   },
   "outputs": [
    {
     "data": {
      "text/plain": [
       "65.99"
      ]
     },
     "execution_count": 60,
     "metadata": {},
     "output_type": "execute_result"
    }
   ],
   "source": [
    "from sklearn.svm import LinearSVC\n",
    "linear_svc = LinearSVC()\n",
    "linear_svc.fit(X_train, Y_train)\n",
    "Y_pred = linear_svc.predict(X_test)\n",
    "acc_linear_svc = round(linear_svc.score(X_train, Y_train) * 100, 2)\n",
    "acc_linear_svc"
   ]
  },
  {
   "cell_type": "code",
   "execution_count": 61,
   "id": "ef5b3692",
   "metadata": {
    "execution": {
     "iopub.execute_input": "2022-01-10T06:32:26.949488Z",
     "iopub.status.busy": "2022-01-10T06:32:26.948506Z",
     "iopub.status.idle": "2022-01-10T06:32:26.960035Z",
     "shell.execute_reply": "2022-01-10T06:32:26.960498Z",
     "shell.execute_reply.started": "2022-01-10T06:22:13.166891Z"
    },
    "papermill": {
     "duration": 0.099962,
     "end_time": "2022-01-10T06:32:26.960670",
     "exception": false,
     "start_time": "2022-01-10T06:32:26.860708",
     "status": "completed"
    },
    "tags": []
   },
   "outputs": [
    {
     "data": {
      "text/plain": [
       "53.98"
      ]
     },
     "execution_count": 61,
     "metadata": {},
     "output_type": "execute_result"
    }
   ],
   "source": [
    "from sklearn.linear_model import Perceptron\n",
    "perceptron = Perceptron()\n",
    "perceptron.fit(X_train, Y_train)\n",
    "Y_pred = perceptron.predict(X_test)\n",
    "acc_perceptron = round(perceptron.score(X_train, Y_train) * 100, 2)\n",
    "acc_perceptron\n"
   ]
  },
  {
   "cell_type": "code",
   "execution_count": 62,
   "id": "b9dd2713",
   "metadata": {
    "execution": {
     "iopub.execute_input": "2022-01-10T06:32:27.127360Z",
     "iopub.status.busy": "2022-01-10T06:32:27.126688Z",
     "iopub.status.idle": "2022-01-10T06:32:27.139437Z",
     "shell.execute_reply": "2022-01-10T06:32:27.139985Z",
     "shell.execute_reply.started": "2022-01-10T06:22:13.188191Z"
    },
    "papermill": {
     "duration": 0.098516,
     "end_time": "2022-01-10T06:32:27.140157",
     "exception": false,
     "start_time": "2022-01-10T06:32:27.041641",
     "status": "completed"
    },
    "tags": []
   },
   "outputs": [
    {
     "data": {
      "text/html": [
       "<div>\n",
       "<style scoped>\n",
       "    .dataframe tbody tr th:only-of-type {\n",
       "        vertical-align: middle;\n",
       "    }\n",
       "\n",
       "    .dataframe tbody tr th {\n",
       "        vertical-align: top;\n",
       "    }\n",
       "\n",
       "    .dataframe thead th {\n",
       "        text-align: right;\n",
       "    }\n",
       "</style>\n",
       "<table border=\"1\" class=\"dataframe\">\n",
       "  <thead>\n",
       "    <tr style=\"text-align: right;\">\n",
       "      <th></th>\n",
       "      <th>Model</th>\n",
       "      <th>Score</th>\n",
       "    </tr>\n",
       "  </thead>\n",
       "  <tbody>\n",
       "    <tr>\n",
       "      <th>3</th>\n",
       "      <td>Random Forest</td>\n",
       "      <td>97.76</td>\n",
       "    </tr>\n",
       "    <tr>\n",
       "      <th>8</th>\n",
       "      <td>Decision Tree</td>\n",
       "      <td>97.76</td>\n",
       "    </tr>\n",
       "    <tr>\n",
       "      <th>1</th>\n",
       "      <td>KNN</td>\n",
       "      <td>84.40</td>\n",
       "    </tr>\n",
       "    <tr>\n",
       "      <th>2</th>\n",
       "      <td>Logistic Regression</td>\n",
       "      <td>79.91</td>\n",
       "    </tr>\n",
       "    <tr>\n",
       "      <th>4</th>\n",
       "      <td>Naive Bayes</td>\n",
       "      <td>75.98</td>\n",
       "    </tr>\n",
       "    <tr>\n",
       "      <th>6</th>\n",
       "      <td>Stochastic Gradient Decent</td>\n",
       "      <td>71.27</td>\n",
       "    </tr>\n",
       "    <tr>\n",
       "      <th>0</th>\n",
       "      <td>Support Vector Machines</td>\n",
       "      <td>69.25</td>\n",
       "    </tr>\n",
       "    <tr>\n",
       "      <th>7</th>\n",
       "      <td>Linear SVC</td>\n",
       "      <td>65.99</td>\n",
       "    </tr>\n",
       "    <tr>\n",
       "      <th>5</th>\n",
       "      <td>Perceptron</td>\n",
       "      <td>53.98</td>\n",
       "    </tr>\n",
       "  </tbody>\n",
       "</table>\n",
       "</div>"
      ],
      "text/plain": [
       "                        Model  Score\n",
       "3               Random Forest  97.76\n",
       "8               Decision Tree  97.76\n",
       "1                         KNN  84.40\n",
       "2         Logistic Regression  79.91\n",
       "4                 Naive Bayes  75.98\n",
       "6  Stochastic Gradient Decent  71.27\n",
       "0     Support Vector Machines  69.25\n",
       "7                  Linear SVC  65.99\n",
       "5                  Perceptron  53.98"
      ]
     },
     "execution_count": 62,
     "metadata": {},
     "output_type": "execute_result"
    }
   ],
   "source": [
    "models = pd.DataFrame({\n",
    "    'Model': ['Support Vector Machines', 'KNN', 'Logistic Regression', \n",
    "              'Random Forest', 'Naive Bayes', 'Perceptron', \n",
    "              'Stochastic Gradient Decent', 'Linear SVC', \n",
    "              'Decision Tree'],\n",
    "    'Score': [acc_svc, acc_knn, acc_log, \n",
    "              acc_random_forest, acc_gaussian, acc_perceptron, \n",
    "              acc_sgd, acc_linear_svc, acc_decision_tree]})\n",
    "models.sort_values(by='Score', ascending=False)"
   ]
  },
  {
   "cell_type": "code",
   "execution_count": 63,
   "id": "9a370ca1",
   "metadata": {
    "execution": {
     "iopub.execute_input": "2022-01-10T06:32:27.327049Z",
     "iopub.status.busy": "2022-01-10T06:32:27.326041Z",
     "iopub.status.idle": "2022-01-10T06:32:27.353273Z",
     "shell.execute_reply": "2022-01-10T06:32:27.352690Z",
     "shell.execute_reply.started": "2022-01-10T06:22:13.208284Z"
    },
    "papermill": {
     "duration": 0.132457,
     "end_time": "2022-01-10T06:32:27.353424",
     "exception": false,
     "start_time": "2022-01-10T06:32:27.220967",
     "status": "completed"
    },
    "tags": []
   },
   "outputs": [
    {
     "data": {
      "text/plain": [
       "array([0, 0, 0, 0, 1, 0, 0, 0, 1, 0, 0, 0, 1, 0, 1, 1, 0, 1, 0, 1, 0, 1,\n",
       "       1, 0, 1, 0, 1, 1, 1, 0, 0, 0, 1, 0, 1, 0, 0, 0, 0, 1, 0, 1, 0, 1,\n",
       "       1, 0, 1, 0, 1, 1, 0, 0, 1, 1, 0, 0, 0, 0, 0, 1, 0, 0, 0, 1, 1, 1,\n",
       "       1, 0, 0, 1, 1, 0, 0, 0, 1, 1, 0, 1, 0, 1, 1, 0, 0, 0, 0, 0, 1, 0,\n",
       "       1, 1, 1, 0, 1, 0, 0, 0, 1, 0, 0, 0, 1, 0, 0, 0, 1, 0, 0, 0, 0, 0,\n",
       "       0, 1, 1, 1, 1, 0, 0, 1, 1, 1, 1, 0, 1, 0, 0, 0, 0, 1, 1, 0, 1, 0,\n",
       "       0, 0, 0, 0, 0, 0, 0, 0, 0, 1, 0, 0, 1, 0, 0, 0, 1, 0, 1, 0, 0, 1,\n",
       "       0, 0, 1, 0, 1, 1, 1, 1, 1, 0, 0, 0, 0, 0, 1, 0, 0, 0, 0, 0, 0, 1,\n",
       "       1, 0, 1, 1, 0, 1, 1, 0, 1, 0, 1, 0, 0, 0, 0, 0, 1, 0, 1, 0, 1, 0,\n",
       "       0, 0, 1, 1, 1, 1, 0, 0, 0, 0, 1, 0, 0, 0, 0, 1, 0, 0, 1, 0, 1, 0,\n",
       "       1, 0, 1, 1, 1, 0, 0, 1, 0, 0, 0, 1, 0, 0, 1, 0, 0, 1, 1, 1, 1, 1,\n",
       "       1, 0, 0, 0, 1, 0, 1, 0, 1, 0, 0, 0, 0, 0, 0, 0, 1, 0, 0, 0, 1, 1,\n",
       "       0, 0, 0, 0, 0, 0, 0, 0, 1, 1, 0, 1, 0, 0, 0, 0, 0, 1, 1, 0, 0, 0,\n",
       "       0, 0, 0, 0, 0, 0, 0, 1, 0, 0, 1, 0, 0, 0, 0, 0, 0, 0, 1, 1, 0, 1,\n",
       "       0, 0, 0, 1, 0, 0, 1, 1, 0, 0, 0, 0, 0, 0, 0, 1, 1, 0, 1, 0, 0, 0,\n",
       "       1, 1, 0, 1, 0, 0, 1, 0, 0, 1, 0, 0, 0, 1, 1, 1, 0, 1, 0, 1, 1, 0,\n",
       "       0, 0, 1, 0, 1, 0, 0, 0, 0, 1, 1, 0, 1, 0, 0, 0, 1, 0, 0, 1, 0, 1,\n",
       "       1, 1, 0, 0, 0, 0, 0, 0, 1, 1, 1, 1, 0, 0, 0, 1, 0, 1, 1, 0, 0, 1,\n",
       "       0, 1, 0, 0, 1, 0, 1, 0, 0, 0, 0, 0, 1, 1, 1, 1, 0, 0, 1, 0, 0, 1])"
      ]
     },
     "execution_count": 63,
     "metadata": {},
     "output_type": "execute_result"
    }
   ],
   "source": [
    "random_forest.predict(df_test)"
   ]
  },
  {
   "cell_type": "code",
   "execution_count": null,
   "id": "3451e17f",
   "metadata": {
    "papermill": {
     "duration": 0.084743,
     "end_time": "2022-01-10T06:32:27.532206",
     "exception": false,
     "start_time": "2022-01-10T06:32:27.447463",
     "status": "completed"
    },
    "tags": []
   },
   "outputs": [],
   "source": []
  }
 ],
 "metadata": {
  "kernelspec": {
   "display_name": "Python 3",
   "language": "python",
   "name": "python3"
  },
  "language_info": {
   "codemirror_mode": {
    "name": "ipython",
    "version": 3
   },
   "file_extension": ".py",
   "mimetype": "text/x-python",
   "name": "python",
   "nbconvert_exporter": "python",
   "pygments_lexer": "ipython3",
   "version": "3.7.12"
  },
  "papermill": {
   "default_parameters": {},
   "duration": 29.142116,
   "end_time": "2022-01-10T06:32:28.534944",
   "environment_variables": {},
   "exception": null,
   "input_path": "__notebook__.ipynb",
   "output_path": "__notebook__.ipynb",
   "parameters": {},
   "start_time": "2022-01-10T06:31:59.392828",
   "version": "2.3.3"
  }
 },
 "nbformat": 4,
 "nbformat_minor": 5
}
